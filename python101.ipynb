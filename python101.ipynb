{
  "nbformat": 4,
  "nbformat_minor": 0,
  "metadata": {
    "colab": {
      "name": "python101.ipynb",
      "provenance": [],
      "collapsed_sections": []
    },
    "kernelspec": {
      "name": "python3",
      "display_name": "Python 3"
    }
  },
  "cells": [
    {
      "cell_type": "markdown",
      "metadata": {
        "id": "lxZaMWxmYahR",
        "colab_type": "text"
      },
      "source": [
        "#1.1: PRINT AND COMMENTS"
      ]
    },
    {
      "cell_type": "markdown",
      "metadata": {
        "id": "URcOrmvGV0pf",
        "colab_type": "text"
      },
      "source": [
        "Let’s start with one of the simplest but also the most important things you can do in Python: make the computer do something.\n",
        "\n",
        "Try running the code below to see what happens:\n"
      ]
    },
    {
      "cell_type": "code",
      "metadata": {
        "id": "1BrDjW8EcND-",
        "colab_type": "code",
        "colab": {
          "base_uri": "https://localhost:8080/",
          "height": 34
        },
        "outputId": "b5024e3e-2593-49a1-8301-fb23a8876234"
      },
      "source": [
        "print(\"Hello World\")"
      ],
      "execution_count": null,
      "outputs": [
        {
          "output_type": "stream",
          "text": [
            "Hello World\n"
          ],
          "name": "stdout"
        }
      ]
    },
    {
      "cell_type": "markdown",
      "metadata": {
        "id": "sbzpeIb3c3tD",
        "colab_type": "text"
      },
      "source": [
        "You should see “Hello World” displayed on the screen. This is called an output. What you just used is called a print statement.\n",
        "\n",
        "Try printing “Python is awesome!” by writing it in between the parentheses of your print statement. Make sure to include the quotation marks—double (“”) or single (‘’) quotes work the same."
      ]
    },
    {
      "cell_type": "markdown",
      "metadata": {
        "id": "wOQlETdydRai",
        "colab_type": "text"
      },
      "source": [
        "##1.1.1 Comments Single-line comments \n",
        "Try running this next code:"
      ]
    },
    {
      "cell_type": "code",
      "metadata": {
        "id": "yeZCbfcVcOqs",
        "colab_type": "code",
        "colab": {}
      },
      "source": [
        "# print(\"Hello World\")"
      ],
      "execution_count": null,
      "outputs": []
    },
    {
      "cell_type": "markdown",
      "metadata": {
        "id": "L5I2XMCzdA9R",
        "colab_type": "text"
      },
      "source": [
        "Notice that nothing happened. That is because by including the hash symbol (#), you are making a comment. Comments do not affect the program as they are only used to make notes to yourself or to a peer who is reading your code.\n",
        "\n"
      ]
    },
    {
      "cell_type": "markdown",
      "metadata": {
        "id": "HfV6kyAedDes",
        "colab_type": "text"
      },
      "source": [
        "##1.1.2 Multi-line comments\n",
        "When using the hash symbol to create a comment, only one line of comment is created. To create a multi-line comment, simply enclose your comments with a triple quote (‘‘‘). For example:\n"
      ]
    },
    {
      "cell_type": "code",
      "metadata": {
        "id": "413hy78hcUag",
        "colab_type": "code",
        "colab": {
          "base_uri": "https://localhost:8080/",
          "height": 34
        },
        "outputId": "33ded04c-eade-4606-deec-fb7a7571be9a"
      },
      "source": [
        "'''\n",
        "comment 1\n",
        "comment 2\n",
        "comment 3\n",
        "'''"
      ],
      "execution_count": null,
      "outputs": [
        {
          "output_type": "execute_result",
          "data": {
            "text/plain": [
              "'\\ncomment 1\\ncomment 2\\ncomment 3\\n'"
            ]
          },
          "metadata": {
            "tags": []
          },
          "execution_count": 4
        }
      ]
    },
    {
      "cell_type": "markdown",
      "metadata": {
        "id": "80X_YLCAd2CF",
        "colab_type": "text"
      },
      "source": [
        "##1.1.3 Formatting print\n",
        "“\\n” next line space\n",
        "Now, try running the following code snippet:"
      ]
    },
    {
      "cell_type": "code",
      "metadata": {
        "id": "vSXbdcVScaBz",
        "colab_type": "code",
        "colab": {}
      },
      "source": [
        "print(\"Hello\")\n",
        "print(\"World\")"
      ],
      "execution_count": null,
      "outputs": []
    },
    {
      "cell_type": "markdown",
      "metadata": {
        "id": "Eb_GyXNXd_gL",
        "colab_type": "text"
      },
      "source": [
        "Notice that “Hello” and “World” print on separate lines. That is because by default, our print statement will end the line. But what if we want to do the same thing with one print statement rather than two. To do so, we use the new line character, indicated by “\\n”.\n",
        "\n",
        "\n",
        "Run the following code snippet:"
      ]
    },
    {
      "cell_type": "code",
      "metadata": {
        "id": "XTKhg9Gbci3j",
        "colab_type": "code",
        "colab": {
          "base_uri": "https://localhost:8080/",
          "height": 51
        },
        "outputId": "4ce5ccdf-bd6f-4437-f7e8-c79e9b75f77c"
      },
      "source": [
        "print(\"Hello\\nWorld\")"
      ],
      "execution_count": null,
      "outputs": [
        {
          "output_type": "stream",
          "text": [
            "Hello\n",
            "World\n"
          ],
          "name": "stdout"
        }
      ]
    },
    {
      "cell_type": "markdown",
      "metadata": {
        "id": "YVTNOomMeKTI",
        "colab_type": "text"
      },
      "source": [
        "Notice that its output is the same as the previous one.\n",
        "\n",
        "“\\t” tab space\n",
        "The tab space, like the next line space (“\\n”) is another special character and is indicated with a “\\t”.\n",
        "\n",
        "Run the following program:"
      ]
    },
    {
      "cell_type": "code",
      "metadata": {
        "id": "T5-iYyv_cpps",
        "colab_type": "code",
        "colab": {
          "base_uri": "https://localhost:8080/",
          "height": 34
        },
        "outputId": "4ab5676a-d43a-49be-f0e1-05ca9f0c8093"
      },
      "source": [
        "print(\"\\tHello World\")"
      ],
      "execution_count": null,
      "outputs": [
        {
          "output_type": "stream",
          "text": [
            "\tHello World\n"
          ],
          "name": "stdout"
        }
      ]
    },
    {
      "cell_type": "markdown",
      "metadata": {
        "id": "3tpRKJhQenUw",
        "colab_type": "text"
      },
      "source": [
        "Try printing “Python\\nIs\\nAwesome!” by writing it in between the parentheses of your print statement. Again, make sure to include the quotation marks (double or single quotes work the same)."
      ]
    },
    {
      "cell_type": "code",
      "metadata": {
        "id": "FKTkpHlqcu7_",
        "colab_type": "code",
        "colab": {}
      },
      "source": [
        "# TODO: write code here"
      ],
      "execution_count": null,
      "outputs": []
    },
    {
      "cell_type": "markdown",
      "metadata": {
        "id": "zOe4jYtZV_7l",
        "colab_type": "text"
      },
      "source": [
        "# 1.2: DATA TYPES AND VARIABLE\n",
        "\n",
        "What is a data type?\n",
        "In computer science, a data type is a label used by the computer to determine a piece of data’s intent and purpose.\n",
        "\n",
        "The string data type\n",
        "In the previous lesson, you printed something that was enclosed in quotation marks. A collection of characters, which includes letters, digits, and/or symbols, contained inside single or double quotation marks is known as a string, written as str in Python. A string (str) is a data type that represents a collection of characters.\n",
        "\n",
        "Examples of **strings**:\n",
        "\n",
        "All letters: “abcd”, “string”\n",
        "All digits: “123”, “156”\n",
        "All symbols: “@#^!”, “!!!!!”, “# # #”, “        ”\n",
        "Combination of all characters: “Abc123~!”\n",
        "Note: An empty space, also known as a white space, is a type of symbol.\n",
        "\n",
        "Note: *A string can even contain nothing: “”*. This is called an empty string.\n",
        "\n",
        "Other data types\n",
        "Strings aren’t the only data types in Python. There is also **int**, which represents an integer number such as 1, 50, 123.\n",
        "\n",
        "Note: “123” is not the same as 123. With quotations, “123” is a string containing the digits “1”, “2”, and “3” whereas 123 represents the numerical value one hundred and twenty three.\n",
        "\n",
        "In addition to int, there is **float**, which represents real numbers such as 1.3, 3.14, 2.7182. The number, 10.0, is also a float.\n",
        "\n",
        "Lastly, there is the **bool** (short for boolean) data type, which represents either True or False values. We will explore these data types in more depth and many others as we continue throughout the tutorial.\n",
        "\n"
      ]
    },
    {
      "cell_type": "code",
      "metadata": {
        "id": "4ISkjTryYNLx",
        "colab_type": "code",
        "colab": {}
      },
      "source": [
        "# printing a string, \"Hello\"\n",
        "print(\"Hello\")"
      ],
      "execution_count": null,
      "outputs": []
    },
    {
      "cell_type": "code",
      "metadata": {
        "id": "4K2P0j7AfB1Y",
        "colab_type": "code",
        "colab": {}
      },
      "source": [
        "# printing an int, 7\n",
        "print(7)"
      ],
      "execution_count": null,
      "outputs": []
    },
    {
      "cell_type": "code",
      "metadata": {
        "id": "EUyvM1p9fEbw",
        "colab_type": "code",
        "colab": {}
      },
      "source": [
        "# printing a float, 1.5\n",
        "print(1.5)"
      ],
      "execution_count": null,
      "outputs": []
    },
    {
      "cell_type": "code",
      "metadata": {
        "id": "bMn4JtiCfJ0e",
        "colab_type": "code",
        "colab": {}
      },
      "source": [
        "# printing a bool, True\n",
        "print(True)"
      ],
      "execution_count": null,
      "outputs": []
    },
    {
      "cell_type": "markdown",
      "metadata": {
        "id": "w28M3KT4V6QJ",
        "colab_type": "text"
      },
      "source": [
        "## VARIABLES\n",
        "\n",
        "In the previous lesson, we discussed data types and their importance in programming. Data types, as mentioned before, are labels used for the computer to determine the data’s intent and purpose. To store instances of data types, we assign them to a variable. In computer science, variables are identifiers that holds values of various data types.\n",
        "\n",
        "For example:\n",
        "\n",
        "\n",
        "\n",
        "```\n",
        "x = 1.5          # The variable x now has the float value 1.5\n",
        "y = 2            # The variable y now has the int value 2\n",
        "z = “Hello”      # The variable z now has the string value “Hello”\n",
        "```\n",
        "\n",
        "\n",
        "\n",
        "In the example above, we simply named our variables: x, y, and z. We then assign the values to them using the equal sign, =. Note that this equal sign is not the same as the equal sign you normally see in math class.\n",
        "\n",
        "Naming variables\n",
        "Variable names can be long or short. They can contain digits but NOT symbols. The only exception to this is the underscore symbol, _ .\n",
        "\n",
        "A variable name may start with either a letter or an underscore. Note: A variable name that starts with an underscore has a special meaning to it so for now, do not name any variables starting with an underscore.\n",
        "\n",
        "Acceptable:\n",
        "\n",
        "\n",
        "```\n",
        "my_Variable = 1.5\n",
        "my_Variable_2 = 2\n",
        "MyVariable3 = “Hello”\n",
        "```\n",
        "\n",
        "Unacceptable:\n",
        "\n",
        "\n",
        "```\n",
        "1Variable = 5            # variable names cannot start with digits (1)\n",
        "Variable@3 = “Hello”     # variable names cannot contain symbols (@)\n",
        "“Hello” = “hello”        # variable names cannot contain symbols (“ and ”)\n",
        "```\n",
        "\n",
        "\n",
        "\n",
        "Naming conventions\n",
        "\n",
        "In Python, the convention for naming variables is to use lower case letters and digits, and underscores for spacing. So in Python, if we want to name a variable, “my variable 1”, it will be presented as my_variable1. Other programming languages use different naming conventions.\n",
        "\n",
        "In addition, it is recommended to give variables meaningful names rather than random ones like “x” or “abc”. This is so that the purpose of a variable is clear from its name. Throughout this course, you may find that the examples use single letter variables often but that is used for emphasising the lesson in a simple manner.\n",
        "\n",
        "Another thing to note is that you do NOT want to name a variable the same name as a keyword that exists in Python. For instance, do not name your variable print, int, float, bool, or str. These have already been defined in Python and if you name a variable one of those keywords, you change the functionality and definition of the variable.\n",
        "\n",
        "For example:"
      ]
    },
    {
      "cell_type": "code",
      "metadata": {
        "id": "bwcVq8dyf6ZH",
        "colab_type": "code",
        "colab": {}
      },
      "source": [
        "print = 10\n",
        "print(\"Hello World\")"
      ],
      "execution_count": null,
      "outputs": []
    },
    {
      "cell_type": "markdown",
      "metadata": {
        "id": "D7cZn0z5f9x6",
        "colab_type": "text"
      },
      "source": [
        "You will get what is known as an error, which will not allow your program to run as desired. Notice the error message that is outputted where your print statements usually appear. We will learn more about the various types of errors as we progress through the course."
      ]
    },
    {
      "cell_type": "markdown",
      "metadata": {
        "id": "qyapBznagCVZ",
        "colab_type": "text"
      },
      "source": [
        "##1.2.1 Printing Variables\n",
        "We can also use print statements on variables too.\n",
        "\n",
        "Try running the following code:"
      ]
    },
    {
      "cell_type": "code",
      "metadata": {
        "id": "apB2D7XNgYyf",
        "colab_type": "code",
        "colab": {}
      },
      "source": [
        "x = 1.5\n",
        "y = 2\n",
        "z = \"Hello\"\n",
        "\n",
        "print(x)\n",
        "print(y)\n",
        "print(z)"
      ],
      "execution_count": null,
      "outputs": []
    },
    {
      "cell_type": "markdown",
      "metadata": {
        "id": "9xioF6r2gdDv",
        "colab_type": "text"
      },
      "source": [
        "When a variable holds a value, we can call the variable name to get the value that it is holding. For instance, we can say print(x). Since x currently holds 1.5, calling print(x) will output 1.5."
      ]
    },
    {
      "cell_type": "markdown",
      "metadata": {
        "id": "6mEhKREIghEp",
        "colab_type": "text"
      },
      "source": [
        "##1.2.2 Reassignment\n",
        "\n",
        "Variables are not tied to one instance of a data type. We can change the value that a variable holds freely.\n",
        "\n",
        "For example:\n",
        "\n",
        "```\n",
        "x = 10\n",
        "x = 12\n",
        "print(x)\n",
        "```\n",
        "\n",
        "\n",
        "\n",
        "The variable x contained the value 10, but then we assigned it to have the value 12. Afterwards, we called print(x), which will output 12, the current value of x. You can also assign a variable to another variable.\n",
        "\n",
        "Try running the follow program:"
      ]
    },
    {
      "cell_type": "code",
      "metadata": {
        "id": "nPBHPyxlgbsf",
        "colab_type": "code",
        "colab": {}
      },
      "source": [
        "x = 12\n",
        "y = x\n",
        "\n",
        "print(x)\n",
        "print(y)"
      ],
      "execution_count": null,
      "outputs": []
    },
    {
      "cell_type": "markdown",
      "metadata": {
        "id": "ctJQLz44hBM8",
        "colab_type": "text"
      },
      "source": [
        "##1.2.3 Dynamic vs. static typing\n",
        "\n",
        "One of the benefits of using Python is that variables are not statically typed. A statically typed variable requires a data type to be declared before being assigned a value. So in a statically typed language such as Java or C++ (syntax here is the same for both), we have the following line of code:\n",
        "\n",
        "int x = 10;\n",
        "Notice the static typing int is attached to the variable x. This means that the variable, x, may only store integer (int) values.\n",
        "\n",
        "If we ran this program in Java/C++:\n",
        "\n",
        "int x = 10;\n",
        "x = \"ten\";\n",
        "It will result in an error because it is simply not allowed to happen. Since the variable x was already declared to only hold an int value, we cannot assign it a string value. Fortunately, in Python, there is no type declaration, we may freely allow variables to hold values of different types and also change them to values of different types. Thus, **Python is known as a dynamically typed language, meaning that there is no data type association** (dynamic means changeable).\n",
        "\n",
        "Try running the following program:"
      ]
    },
    {
      "cell_type": "code",
      "metadata": {
        "id": "REWAAWAnhNFl",
        "colab_type": "code",
        "colab": {}
      },
      "source": [
        "x = 12\n",
        "x = \"twelve\"\n",
        "print(x)"
      ],
      "execution_count": null,
      "outputs": []
    },
    {
      "cell_type": "markdown",
      "metadata": {
        "id": "py7ElCjyhPts",
        "colab_type": "text"
      },
      "source": [
        "Notice that first, we assigned the int, 12, to x. Then we assigned the string, “twelve”, to x so now x holds the string item, “twelve”. Then you made a print statement to output the value of x, which is currently “twelve”."
      ]
    },
    {
      "cell_type": "markdown",
      "metadata": {
        "id": "SHyIGXnohZMI",
        "colab_type": "text"
      },
      "source": [
        "##1.2.4 Swapping\n",
        "In some cases, we may want to swap the values of two different variables. For example, if x had the string, “five”, and y had the int, 5, we may want to swap them so that x will now have 5 and y would have “five”.\n",
        "\n",
        "To swap two variables, we will need the help of a third variable. Remember from earlier that we can reassign a variable another value. For example:"
      ]
    },
    {
      "cell_type": "code",
      "metadata": {
        "id": "4hpSpo1yhbqa",
        "colab_type": "code",
        "colab": {}
      },
      "source": [
        "x = 10\n",
        "y = \"ten\"\n",
        "x = y\n",
        "# x now has “ten”\n",
        "\n",
        "y = x\n",
        "# y gets the value of x (“ten”) which it currently has\n",
        "# so we just changed the value from “ten” to “ten”\n",
        "\n",
        "print(x)\n",
        "print(y)"
      ],
      "execution_count": null,
      "outputs": []
    },
    {
      "cell_type": "markdown",
      "metadata": {
        "id": "k-CSScmZhefu",
        "colab_type": "text"
      },
      "source": [
        "Notice that the original value of 10, has been lost. However, using a third, variable that we may name temp, we can use the “temporary” variable to hold the original value of x.\n",
        "\n",
        "Run the following program:"
      ]
    },
    {
      "cell_type": "code",
      "metadata": {
        "id": "1c5PUhaFhikF",
        "colab_type": "code",
        "colab": {}
      },
      "source": [
        "x = 10\n",
        "y = \"ten\"\n",
        "\n",
        "# Step 1\n",
        "x,y = y,x\n",
        "\n",
        "print(x)\n",
        "print(y)"
      ],
      "execution_count": null,
      "outputs": []
    },
    {
      "cell_type": "markdown",
      "metadata": {
        "id": "4qpMppRhhpYg",
        "colab_type": "text"
      },
      "source": [
        "##1.2.5 Practice\n",
        "Let’s say you have an apple and your friend has money. Your friend wants to buy your apple and you agree to sell him the apple so you will exchange the apple for his money.\n",
        "\n",
        "Write a program to swap the values of the variables so that you now have the “money” and your friend has the “apple”. Do this using a temporary variable.\n",
        "\n",
        "Here is the code to start with:"
      ]
    },
    {
      "cell_type": "code",
      "metadata": {
        "id": "vI9UCsNXhyEd",
        "colab_type": "code",
        "colab": {}
      },
      "source": [
        "you = \"apple\"\n",
        "friend = \"money\"\n",
        "\n",
        "# TODO: write code here\n",
        "\n",
        "print(friend)\n",
        "print(you)"
      ],
      "execution_count": null,
      "outputs": []
    },
    {
      "cell_type": "markdown",
      "metadata": {
        "id": "x2Zn0X0DhuUM",
        "colab_type": "text"
      },
      "source": [
        "Now try it again using Python’s single line syntax to swap the two values."
      ]
    },
    {
      "cell_type": "code",
      "metadata": {
        "id": "YPlEuXTLh4Lx",
        "colab_type": "code",
        "colab": {}
      },
      "source": [
        "you = \"apple\"\n",
        "friend = \"money\"\n",
        "\n",
        "# TODO: write code here\n",
        "\n",
        "print(friend)\n",
        "print(you)"
      ],
      "execution_count": null,
      "outputs": []
    },
    {
      "cell_type": "markdown",
      "metadata": {
        "id": "AG3ccu0Rh0v5",
        "colab_type": "text"
      },
      "source": [
        "You should now have the “money” and your friend should have the “apple”."
      ]
    },
    {
      "cell_type": "markdown",
      "metadata": {
        "id": "8ZChpXNOiGiJ",
        "colab_type": "text"
      },
      "source": [
        "##1.2.6 Checking variable type\n",
        "What if you have some variable holding some value and you’re not sure of the data type? Simply, use type( ) with the variable name, or the value itself. type is also a keyword and so you should never name a variable “type”.\n",
        "\n",
        "Run the following program:"
      ]
    },
    {
      "cell_type": "code",
      "metadata": {
        "id": "7ATVkVnOiJDT",
        "colab_type": "code",
        "colab": {}
      },
      "source": [
        "string1 = \"Hello World\"\n",
        "int1 = 10\n",
        "print(type(string1))\n",
        "print(type(int1))"
      ],
      "execution_count": null,
      "outputs": []
    },
    {
      "cell_type": "markdown",
      "metadata": {
        "id": "sHpM8m0YiL2v",
        "colab_type": "text"
      },
      "source": [
        "Notice that we managed to swap the variables with fewer steps than before."
      ]
    },
    {
      "cell_type": "markdown",
      "metadata": {
        "id": "O57sdIF-iRke",
        "colab_type": "text"
      },
      "source": [
        "NoneType\n",
        "Sometimes we may want to create a variable but not assign it a particular value at the time being. For such a variable, we assign it the NoneType value, None.\n",
        "\n",
        "For example:"
      ]
    },
    {
      "cell_type": "code",
      "metadata": {
        "id": "YyAPzSDuiY0L",
        "colab_type": "code",
        "colab": {}
      },
      "source": [
        "x = None\n",
        "print(x)\n",
        "print(type(x))"
      ],
      "execution_count": null,
      "outputs": []
    },
    {
      "cell_type": "markdown",
      "metadata": {
        "id": "mQly6z4jia1A",
        "colab_type": "text"
      },
      "source": [
        "This value has no special features. It serves as a placeholder. Because it has no special values, it does not take up much space when created and assigned to a variable."
      ]
    },
    {
      "cell_type": "markdown",
      "metadata": {
        "id": "Oeq2My0piw-3",
        "colab_type": "text"
      },
      "source": [
        "#1.3: ARITHMETIC OPERATIONS\n",
        "\n",
        "In mathematics, you may be familiar with the basic arithmetic operators. These operators also apply and are widely used in computer science.\n",
        "\n",
        "Let’s start with the most basic data type: int.\n",
        "\n",
        "Run the following program:"
      ]
    },
    {
      "cell_type": "code",
      "metadata": {
        "id": "f4ehktjIi-1Q",
        "colab_type": "code",
        "colab": {}
      },
      "source": [
        "Var1 = 10\n",
        "Var2 = 10 + 2   # Addition \n",
        "Var3 = 10 - 2   # Subtraction \n",
        "Var4 = 10 * 2   # Multiplication \n",
        "Var5 = 10 / 2   # Division\n",
        "\n",
        "print(Var1)\n",
        "print(Var2)\n",
        "print(Var3)\n",
        "print(Var4)\n",
        "print(Var5)"
      ],
      "execution_count": null,
      "outputs": []
    },
    {
      "cell_type": "markdown",
      "metadata": {
        "id": "PmAyYjKGjCPb",
        "colab_type": "text"
      },
      "source": [
        "As expected, when you perform the four basic arithmetic operations, you get the same output as what you’d expect in an elementary math class.\n",
        "\n",
        "Notice that when you perform addition, subtraction, and multiplication on int values, you will always get an int. However, with division, you will always get a float. This is because all addition, subtraction, and multiplication operations on integers will always result with integers, but not all division operations on integers result in an integer.\n",
        "\n",
        "To simplify this, Python will always convert the type of the quotient of two int values to a float. This is because a float represent all real numbers. We will discuss type conversion in the next chapter.\n",
        "\n",
        "Arithmetic Operations can also be done with variables that hold an int value.\n",
        "\n",
        "Try running the code below:"
      ]
    },
    {
      "cell_type": "code",
      "metadata": {
        "id": "Stl-mUPGjFnF",
        "colab_type": "code",
        "colab": {}
      },
      "source": [
        "Var1 = 10         # Assignment\n",
        "Var2 = Var1 + 2   # Addition \n",
        "Var3 = Var1 - 2   # Subtraction \n",
        "Var4 = Var1 * 2   # Multiplication \n",
        "Var5 = Var1 / 2   # Division \n",
        "\n",
        "print(Var1)       # int\n",
        "print(Var2)       # int\n",
        "print(Var3)       # int\n",
        "print(Var4)       # int\n",
        "print(Var5)       # float"
      ],
      "execution_count": null,
      "outputs": []
    },
    {
      "cell_type": "markdown",
      "metadata": {
        "id": "fU5GEI7-jI88",
        "colab_type": "text"
      },
      "source": [
        "We can also skip storing the int values in variables and, instead, print the result instantly:"
      ]
    },
    {
      "cell_type": "code",
      "metadata": {
        "id": "3NfErUM7jMbQ",
        "colab_type": "code",
        "colab": {}
      },
      "source": [
        "print(10)\n",
        "print(10 + 2)\n",
        "print(10 - 2)\n",
        "print(10 * 2)\n",
        "print(10 / 2)"
      ],
      "execution_count": null,
      "outputs": []
    },
    {
      "cell_type": "markdown",
      "metadata": {
        "id": "GKivB6mSjP2I",
        "colab_type": "text"
      },
      "source": [
        "Arithmetic Operations done with float values are very similar to int values.\n",
        "\n",
        "Run the following program:"
      ]
    },
    {
      "cell_type": "code",
      "metadata": {
        "id": "ruChp47ojSLo",
        "colab_type": "code",
        "colab": {}
      },
      "source": [
        "Var1 = 12.5 + 2.5   # Addition \n",
        "Var2 = 12.5 - 2.5   # Subtraction \n",
        "Var3 = 12.5 * 2.5   # Multiplication \n",
        "Var4 = 12.5 / 2.5   # Division \n",
        "\n",
        "print(Var1)         # float\n",
        "print(Var2)         # float\n",
        "print(Var3)         # float\n",
        "print(Var4)         # float"
      ],
      "execution_count": null,
      "outputs": []
    },
    {
      "cell_type": "markdown",
      "metadata": {
        "id": "o_5tppCYjWwc",
        "colab_type": "text"
      },
      "source": [
        "Notice that despite that the sum of 12.5 and 2.5 results in an integer number, it will still be of the type float.\n",
        "\n",
        "For the same reason why dividing two int values results in a float, any basic arithmetic operation performed on two float values will result in a float because not all operations between two float values will result in an integer but it can always result in a float value.\n",
        "\n",
        "**Note**: The int, 10, is equivalent in value to the float, 10.0. They are different in data types.\n",
        "\n"
      ]
    },
    {
      "cell_type": "markdown",
      "metadata": {
        "id": "WrCY2iNKjZZu",
        "colab_type": "text"
      },
      "source": [
        "##1.3.1 Variable update operators\n",
        "Now that we’ve discussed the 4 basic arithmetic operations, let’s look at another interesting syntax.\n",
        "\n",
        "Look at the following:\n",
        "\n",
        "\n",
        "```\n",
        "x = 6\n",
        "x = x + 6\n",
        "print(x)\n",
        "```\n",
        "\n",
        "\n",
        "\n",
        "You might have thought about it algebraically. However, remember that the equal symbol in computer science is used for assignment and does not represent equality used in normal math equations that you’re used to seeing.\n",
        "\n",
        "If we were to following algebra rules, we’d end up with x = x + 6 -> 0 = 6, which wouldn’t make sense at all. What is happening in the code is that first, we assign 6 to x. So x now has 6. We then assign x + 6 to x, which will result in x holding the value 12. Of course, we are still using the basic addition operator.\n",
        "\n",
        "We can simplify this further by just using a new operator, the += operator.\n",
        "\n",
        "Run the following program:"
      ]
    },
    {
      "cell_type": "code",
      "metadata": {
        "id": "tjp7QWs5js-K",
        "colab_type": "code",
        "colab": {
          "base_uri": "https://localhost:8080/",
          "height": 34
        },
        "outputId": "03f95b37-baff-4dfa-aa91-97a78924a30c"
      },
      "source": [
        "x = 6\n",
        "x += 6\n",
        "print(x)"
      ],
      "execution_count": 1,
      "outputs": [
        {
          "output_type": "stream",
          "text": [
            "12\n"
          ],
          "name": "stdout"
        }
      ]
    },
    {
      "cell_type": "markdown",
      "metadata": {
        "id": "qZDrGsDvjuBa",
        "colab_type": "text"
      },
      "source": [
        "This will allow you to quickly update the value that the variable holds. But what is the difference? Could it be saving you time from writing the variable name again? Well, that’s just a small part of the benefits of using the += operator instead of the regular + operator.\n",
        "\n",
        "What happens when you run x = x + 6, you create a copy of the value held in x, and increase the value by 6. The sum is then reassigned back to the same variable, x.\n",
        "\n",
        "However, with the += operator, the addition is done in place. Because int and float values are relatively small, it is not important whether you use the += or + operator to perform your addition. We will discuss more on these operators when we introduce other data types in the next chapter.\n",
        "\n",
        "There is also one benefit of using the basic arithmetic syntax and that is you can chain the operator.\n",
        "\n",
        "Run the following program:"
      ]
    },
    {
      "cell_type": "code",
      "metadata": {
        "id": "9njctEwljyk7",
        "colab_type": "code",
        "colab": {}
      },
      "source": [
        "x = 5\n",
        "x = x + 5 + 5\n",
        "print(x)"
      ],
      "execution_count": null,
      "outputs": []
    },
    {
      "cell_type": "markdown",
      "metadata": {
        "id": "D7eNlJMVj3OX",
        "colab_type": "text"
      },
      "source": [
        "You can also update the value by performing the other operations mentioned previously by using similar syntax.\n",
        "\n",
        "##1.3.2 Power Operator\n",
        "In math class, if you wanted to write a number to the power of another number, you would write something similar to m^n or mn , where m is one number and n is another.\n",
        "\n",
        "So in the case of m = 2 and n = 3, it would be either 2^3 or 23, which will evaluate to 2 * 2 * 2 = 8.\n",
        "\n",
        "In Python, you perform such an operation using two asterisks: **\n",
        "\n",
        "Try running the following program:"
      ]
    },
    {
      "cell_type": "code",
      "metadata": {
        "id": "4dB8hvcGj62o",
        "colab_type": "code",
        "colab": {}
      },
      "source": [
        "Num1 = 5**2\n",
        "print(Num1)"
      ],
      "execution_count": null,
      "outputs": []
    },
    {
      "cell_type": "markdown",
      "metadata": {
        "id": "7JYvGj3Kj-zu",
        "colab_type": "text"
      },
      "source": [
        "Now, try running this program:"
      ]
    },
    {
      "cell_type": "code",
      "metadata": {
        "id": "Y4GubaqIj_14",
        "colab_type": "code",
        "colab": {}
      },
      "source": [
        "Num1 = 5**2.0\n",
        "Num2 = 5.0**2\n",
        "print(Num1)\n",
        "print(Num2)"
      ],
      "execution_count": null,
      "outputs": []
    },
    {
      "cell_type": "markdown",
      "metadata": {
        "id": "wuOvFQ2wkCRb",
        "colab_type": "text"
      },
      "source": [
        "Finally, run this program:"
      ]
    },
    {
      "cell_type": "code",
      "metadata": {
        "id": "qRA8qCNIkLCi",
        "colab_type": "code",
        "colab": {}
      },
      "source": [
        "Num1 = 5.0**2.0\n",
        "print(Num1)"
      ],
      "execution_count": null,
      "outputs": []
    },
    {
      "cell_type": "markdown",
      "metadata": {
        "id": "Yjigum41kNSy",
        "colab_type": "text"
      },
      "source": [
        "Notice the type differences whether or not the power operation is used on two int values, two float values, or one int and one float value.\n",
        "\n",
        "An int to the power of an int will result in an int. A float/int to the power of a float will result in a float. A float to the power of a float/int will result in a float.\n",
        "\n",
        "The reason for this is the same reason mentioned with division between two int values. A float to the power of an int does not always result in an int but can always result in a float. Similarly, an int to the power of a float does not always result in an int but can always result in a float.\n",
        "\n",
        "##1.3.3 Integer Division (Div Operator)\n",
        "The div operator is used to find the greatest number of times a number can be subtracted from another number. It is also called integer division because in other languages such as C++ and Java, there are no statically typed variables. As mentioned earlier, statically typed variables may only hold values of a single data type.\n",
        "\n",
        "For this reason, in Java and C++:\n",
        "\n",
        "```\n",
        "int x = 7/2;\n",
        "```\n",
        "\n",
        "The variable, x, will actually hold 2. Although 7/2 gives you 3.5, 3.5 is a float value and not an int value. Instead, you will get 2 because you can only at most, 3 times, subtracted 2 from 7.\n",
        "\n",
        "What actually happens in Java and C++ is that 7/2 will give the value 3.5 and then everything after the decimal point will be removed (truncated), resulting in 3. This also implies that 2 can be subtracted from 7 at most 3 times.\n",
        "\n",
        "In Python, since division works appropriately with two int values by converting the quotient to a float (this can happen because Python is NOT a statically typed language), there is no integer division happening.\n",
        "\n",
        "Therefore, Python included the integer division operator which is denoted by two forward slash symbol, //. Regular division in Python is just a single forward slash, /.\n",
        "\n",
        "Run the following program:"
      ]
    },
    {
      "cell_type": "code",
      "metadata": {
        "id": "_rmkUcORkZCm",
        "colab_type": "code",
        "colab": {}
      },
      "source": [
        "print(14 // 3)"
      ],
      "execution_count": null,
      "outputs": []
    },
    {
      "cell_type": "markdown",
      "metadata": {
        "id": "_yPIQzbgkZ9e",
        "colab_type": "text"
      },
      "source": [
        "Since 3 can only be subtracted 14 times, 14//3 will result in 3.\n",
        "\n",
        "The phrase used for this operation is “14 div 3.”\n",
        "\n",
        "Note that if we call the div operations on two int values, the resulting value will also be of the type, int. However, if we did the same with two float values, the resulting type will be a float. Same will apply if the div operator is done with one float and one int value.\n",
        "\n",
        "Run the following program:"
      ]
    },
    {
      "cell_type": "code",
      "metadata": {
        "id": "l5-HUvmnkdKq",
        "colab_type": "code",
        "colab": {}
      },
      "source": [
        "print(14.0 // 3)"
      ],
      "execution_count": null,
      "outputs": []
    },
    {
      "cell_type": "markdown",
      "metadata": {
        "id": "fhIownNlkfby",
        "colab_type": "text"
      },
      "source": [
        "## 1.3.4 Modular Division (Mod Operator)\n",
        "\n",
        "In the previous topic, we discussed the div operator. We now have the Mod operator, sometimes referred to as modulus, or modular arithmetic. Using the mod operator will give you the remainder in a division. This mode operator is denoted by the percent symbol, %.\n",
        "\n",
        "For example, if you had an int, 14, and another int 3, performing the mod operation 14 % 3 will result in 2 because we will have 2 leftover (the remainder) after subtracting as many 3’s as we can from 14.\n",
        "\n",
        "Run the following program:"
      ]
    },
    {
      "cell_type": "code",
      "metadata": {
        "id": "HvyK-cSYkk_i",
        "colab_type": "code",
        "colab": {}
      },
      "source": [
        "print(14 % 3)"
      ],
      "execution_count": null,
      "outputs": []
    },
    {
      "cell_type": "markdown",
      "metadata": {
        "id": "RSm8XLCKkj-O",
        "colab_type": "text"
      },
      "source": [
        "The remainder of 14/3 gives you 2.\n",
        "\n",
        "We may also perform a mod operation using two float values or one float and one int value.\n",
        "\n",
        "Run the following program:"
      ]
    },
    {
      "cell_type": "code",
      "metadata": {
        "id": "UajFqLN0kqOR",
        "colab_type": "code",
        "colab": {}
      },
      "source": [
        "print(14.0 % 3.0)"
      ],
      "execution_count": null,
      "outputs": []
    },
    {
      "cell_type": "markdown",
      "metadata": {
        "id": "NJ3wCQcmkyPn",
        "colab_type": "text"
      },
      "source": [
        "The phrase used for this operation is “14 mod 3.”\n",
        "\n",
        "Similar to the div operation, if we call the mod operations on two int values, the resulting value will also be of the type float. However, if we did the same with two float values, the resulting type will be a float. Same will apply if the mod operator is done with one float and one int value.\n",
        "\n",
        "Also, you may have noticed that the div and mod operator are related. In the examples mentioned above, 14 // 3 results in 4 and 14 % 3 results in 2.\n",
        "\n",
        "This gives the relation:\n",
        "\n",
        "\n",
        "```\n",
        "(14 // 3) * 3 + 14 % 3 = 14\n",
        "Plugging in for 14 // 3 and 14 % 3 results in 4 * 3 + 2 = 14.\n",
        "```\n",
        "\n",
        "\n",
        "The general formula is:\n",
        "\n",
        "\n",
        "```\n",
        "(n // m) * m + n % m = n , where n and m are float(s) or int(s)\n",
        "```\n",
        "\n",
        "##1.3.5 Arithmetic operations on strings\n",
        "It is also possible to perform arithmetic operations on string data types. However, only two operators work: addition (+) and multiplication (*).\n",
        "\n",
        "Run the following program:\n"
      ]
    },
    {
      "cell_type": "code",
      "metadata": {
        "id": "VB8m8MLWktpg",
        "colab_type": "code",
        "colab": {}
      },
      "source": [
        "String1 = \"Orange\" + \"Juice\"\n",
        "print(String1)"
      ],
      "execution_count": null,
      "outputs": []
    },
    {
      "cell_type": "markdown",
      "metadata": {
        "id": "ROUNIDWdlJrj",
        "colab_type": "text"
      },
      "source": [
        "We could also do this with variables containing string values.\n",
        "\n",
        "Run the following program:\n"
      ]
    },
    {
      "cell_type": "code",
      "metadata": {
        "id": "nH7KpuFylPoC",
        "colab_type": "code",
        "colab": {}
      },
      "source": [
        "String1 = \"Orange\"\n",
        "String2 = \"Juice\"\n",
        "String3 = String1 + String2\n",
        "print(String3)"
      ],
      "execution_count": null,
      "outputs": []
    },
    {
      "cell_type": "markdown",
      "metadata": {
        "id": "ULC3ihPDlM8t",
        "colab_type": "text"
      },
      "source": [
        "Alternatively, we can also skip having that third value hold the string that is the sum of String1 and String2.\n",
        "\n",
        "Run the following program:"
      ]
    },
    {
      "cell_type": "code",
      "metadata": {
        "id": "nQWm4SmNlTL-",
        "colab_type": "code",
        "colab": {}
      },
      "source": [
        "String1 = \"Orange\"\n",
        "String2 = \"Juice\"\n",
        "print(String1 + String2)"
      ],
      "execution_count": null,
      "outputs": []
    },
    {
      "cell_type": "markdown",
      "metadata": {
        "id": "r5i-S5HOlr59",
        "colab_type": "text"
      },
      "source": [
        "The operation, multiplication, also works with a string. But the difference is that it must be a string value multiplied by an int value.\n",
        "\n",
        "Run the following program:"
      ]
    },
    {
      "cell_type": "code",
      "metadata": {
        "id": "VNyPcF2vlzIr",
        "colab_type": "code",
        "colab": {}
      },
      "source": [
        "String1 = \"Orange\"\n",
        "String2 = String1 * 3\n",
        "print(String1)\n",
        "print(String2)"
      ],
      "execution_count": null,
      "outputs": []
    },
    {
      "cell_type": "markdown",
      "metadata": {
        "id": "-A77TqExl1Ul",
        "colab_type": "text"
      },
      "source": [
        "Strings also support the Update Operator for the two operations mentioned above.\n",
        "\n",
        "Run the following program:"
      ]
    },
    {
      "cell_type": "code",
      "metadata": {
        "id": "2iegIl-el4gz",
        "colab_type": "code",
        "colab": {}
      },
      "source": [
        "string1 = \"Apple\"\n",
        "string1 += \"Juice\" # addition\n",
        "print(string1)"
      ],
      "execution_count": null,
      "outputs": []
    },
    {
      "cell_type": "markdown",
      "metadata": {
        "id": "baOI7L0sl66M",
        "colab_type": "text"
      },
      "source": [
        "Run the following program:"
      ]
    },
    {
      "cell_type": "code",
      "metadata": {
        "id": "teKN-wUBl87G",
        "colab_type": "code",
        "colab": {}
      },
      "source": [
        "string1 = \"Apple\"\n",
        "string1 *= 3\n",
        "print(string1)"
      ],
      "execution_count": null,
      "outputs": []
    },
    {
      "cell_type": "markdown",
      "metadata": {
        "id": "CfpXukjEBVrb",
        "colab_type": "text"
      },
      "source": [
        "##1.3.6 Practice Numeric Comparisons\n"
      ]
    },
    {
      "cell_type": "code",
      "metadata": {
        "id": "qFytYYWKE3nS",
        "colab_type": "code",
        "colab": {}
      },
      "source": [
        "a = 21\n",
        "b = 10\n",
        "c = 0\n",
        "\n",
        "if ( a == b ):\n",
        "   print \"Line 1 - a is equal to b\"\n",
        "else:\n",
        "   print \"Line 1 - a is not equal to b\"\n",
        "\n",
        "if ( a != b ):\n",
        "   print \"Line 2 - a is not equal to b\"\n",
        "else:\n",
        "   print \"Line 2 - a is equal to b\"\n",
        "\n",
        "if ( a <> b ):\n",
        "   print \"Line 3 - a is not equal to b\"\n",
        "else:\n",
        "   print \"Line 3 - a is equal to b\"\n",
        "\n",
        "if ( a < b ):\n",
        "   print \"Line 4 - a is less than b\" \n",
        "else:\n",
        "   print \"Line 4 - a is not less than b\"\n",
        "\n",
        "if ( a > b ):\n",
        "   print \"Line 5 - a is greater than b\"\n",
        "else:\n",
        "   print \"Line 5 - a is not greater than b\"\n",
        "\n",
        "a = 5;\n",
        "b = 20;\n",
        "if ( a <= b ):\n",
        "   print \"Line 6 - a is either less than or equal to  b\"\n",
        "else:\n",
        "   print \"Line 6 - a is neither less than nor equal to  b\"\n",
        "\n",
        "if ( b >= a ):\n",
        "   print \"Line 7 - b is either greater than  or equal to b\"\n",
        "else:\n",
        "   print \"Line 7 - b is neither greater than  nor equal to b\""
      ],
      "execution_count": null,
      "outputs": []
    },
    {
      "cell_type": "markdown",
      "metadata": {
        "id": "RhgHRv-kFXNF",
        "colab_type": "text"
      },
      "source": [
        "##1.3.7 Practice Arithmetic Operators"
      ]
    },
    {
      "cell_type": "code",
      "metadata": {
        "id": "cyfZTZVoFZ-z",
        "colab_type": "code",
        "colab": {}
      },
      "source": [
        "a = 21\n",
        "b = 10\n",
        "c = 0\n",
        "\n",
        "c = a + b\n",
        "print \"Line 1 - Value of c is \", c\n",
        "\n",
        "c = a - b\n",
        "print \"Line 2 - Value of c is \", c \n",
        "\n",
        "c = a * b\n",
        "print \"Line 3 - Value of c is \", c \n",
        "\n",
        "c = a / b\n",
        "print \"Line 4 - Value of c is \", c \n",
        "\n",
        "c = a % b\n",
        "print \"Line 5 - Value of c is \", c\n",
        "\n",
        "a = 2\n",
        "b = 3\n",
        "c = a**b \n",
        "print \"Line 6 - Value of c is \", c\n",
        "\n",
        "a = 10\n",
        "b = 5\n",
        "c = a//b \n",
        "print \"Line 7 - Value of c is \", c"
      ],
      "execution_count": null,
      "outputs": []
    },
    {
      "cell_type": "markdown",
      "metadata": {
        "id": "2tT4Gz0jmIuN",
        "colab_type": "text"
      },
      "source": [
        "# 2.1 INPUTS AND TYPE CONVERSION\n",
        "\n",
        "##2.1.1 Inputs\n",
        "So far, we’ve only done hard coding in our program. Hard coding is coding in such a way that the program itself cannot alter or change anything, including the variables. So if we had the following:\n",
        "\n",
        "```\n",
        "x = 5\n",
        "print(x)\n",
        "```\n",
        "\n",
        "\n",
        "No matter how many times we run the program, it will always output 5.\n",
        "\n",
        "However, we can change that by asking the user for an input. Using an input statement will display a prompt to the user and allow them to enter a value.\n",
        "\n",
        "Try running the following program and entering a number:\n"
      ]
    },
    {
      "cell_type": "code",
      "metadata": {
        "id": "h5G5CDobmZun",
        "colab_type": "code",
        "colab": {}
      },
      "source": [
        "x = input(\"Please enter a number\")\n",
        "print(x)"
      ],
      "execution_count": null,
      "outputs": []
    },
    {
      "cell_type": "markdown",
      "metadata": {
        "id": "vY2vDWP6mtT4",
        "colab_type": "text"
      },
      "source": [
        "By assigning input to the variable x, our program is no longer hard coded. Different inputs will result in different outputs.\n",
        "\n",
        "Try running the following program with an int or float:"
      ]
    },
    {
      "cell_type": "code",
      "metadata": {
        "id": "oNX-EXo0muLz",
        "colab_type": "code",
        "colab": {}
      },
      "source": [
        "x = input(\"Please enter an int or float\")\n",
        "print(x + 5)"
      ],
      "execution_count": null,
      "outputs": []
    },
    {
      "cell_type": "markdown",
      "metadata": {
        "id": "lXU7mZW9mwkw",
        "colab_type": "text"
      },
      "source": [
        "You should receive an error. Why is that? Looking at the error, you may see that the specific error is called a TypeError, which occurs when you perform an operation on data types that cannot be done.\n",
        "\n",
        "```\n",
        "TypeError: unsupported operand type(s) for +: 'str' and 'int'\n",
        "```\n",
        "\n",
        "\n",
        "\n",
        "Depending on your work environment, the error will be displayed along with the cause of error. We tried printing x + 5, and the error message tells us that the + operand does not work between a str and an int value. We know that the value, 5, in our print statement is an int type. Thus, we can conclude that x is of the type str, despite our attempt to input an int or float.\n",
        "\n",
        "How can we actually confirm this? Well, we can simply use the type statement discussed in the previous chapter.\n",
        "\n",
        "```\n",
        "x = input(\"Please enter a value\")\n",
        "print(type(x))\n",
        "```\n",
        "\n",
        "\n",
        "Inputs are always read in as str type values. So how do we take in an input for other types like int or float?\n",
        "\n",
        "We simply need to use something called a type conversion.\n",
        "\n",
        "##2.1.1 Type Conversion\n",
        "\n",
        "Run the following program:"
      ]
    },
    {
      "cell_type": "code",
      "metadata": {
        "id": "7VSJaSW7m-C5",
        "colab_type": "code",
        "colab": {}
      },
      "source": [
        "x = int(input(\"Please enter an int\"))\n",
        "print(x + 5)"
      ],
      "execution_count": null,
      "outputs": []
    },
    {
      "cell_type": "markdown",
      "metadata": {
        "id": "vtPr-MusnA7T",
        "colab_type": "text"
      },
      "source": [
        "Your program should now perform the operations correctly if you put in any int type value. However, when you put in a float value, you may notice something went wrong. Python does not allow direct conversion from a str representing a float to an int.\n",
        "\n",
        "Run the following program:"
      ]
    },
    {
      "cell_type": "code",
      "metadata": {
        "id": "VxBUSGsznFSs",
        "colab_type": "code",
        "colab": {}
      },
      "source": [
        "x = float(input(\"Please enter a number\"))\n",
        "print(x * 5)"
      ],
      "execution_count": null,
      "outputs": []
    },
    {
      "cell_type": "markdown",
      "metadata": {
        "id": "R-faTW7wnGc8",
        "colab_type": "text"
      },
      "source": [
        "We have taken the input, which is of str type, and converted it to a float to work.\n",
        "\n",
        "We can also convert an int to a float.\n",
        "\n",
        "```\n",
        "print(float(5))\n",
        "```\n",
        "\n",
        "We are changing the int value 5 to a float value of 5.0. Basically, it added a decimal point and a 0.\n",
        "\n",
        "How about converting a float value to an int value?\n",
        "\n",
        "Run the following program:"
      ]
    },
    {
      "cell_type": "code",
      "metadata": {
        "id": "v0pwZtNCnM4e",
        "colab_type": "code",
        "colab": {}
      },
      "source": [
        "is_a_float = 1.655 \n",
        "is_an_int = int(is_a_float)\n",
        "print(is_an_int)"
      ],
      "execution_count": null,
      "outputs": []
    },
    {
      "cell_type": "markdown",
      "metadata": {
        "id": "Kznppv_NnRdN",
        "colab_type": "text"
      },
      "source": [
        "When Python converts a float to an int, it truncates (or removes) all the numbers after the decimal point.\n",
        "\n",
        "Now, run this program:"
      ]
    },
    {
      "cell_type": "code",
      "metadata": {
        "id": "VjRmEok3nQ72",
        "colab_type": "code",
        "colab": {}
      },
      "source": [
        "is_a_string = \"1.655\"\n",
        "is_an_int = int(float(is_a_string))\n",
        "print(is_an_int)"
      ],
      "execution_count": null,
      "outputs": []
    },
    {
      "cell_type": "markdown",
      "metadata": {
        "id": "CpwndSEfnXhz",
        "colab_type": "text"
      },
      "source": [
        "Notice that the outputs are the same.\n",
        "\n",
        "Remember that inputs are of the type str, so what happens when we convert our input str representing a float to an int is that the str must first converted to a float, and then the float can be converted to an int.\n",
        "\n",
        "We know what will happen when we try to convert a str that represents a float to a float or to an int."
      ]
    },
    {
      "cell_type": "code",
      "metadata": {
        "id": "bdYDBqjnnZLy",
        "colab_type": "code",
        "colab": {}
      },
      "source": [
        "print(float(\"1.5\"))\n",
        "print(int(\"3\"))"
      ],
      "execution_count": null,
      "outputs": []
    },
    {
      "cell_type": "markdown",
      "metadata": {
        "id": "Yeph8IJvnbS9",
        "colab_type": "text"
      },
      "source": [
        "We can also do the reverse and convert a float and int to a str."
      ]
    },
    {
      "cell_type": "code",
      "metadata": {
        "id": "Tiai4GLWndp2",
        "colab_type": "code",
        "colab": {}
      },
      "source": [
        "x = 1.5   \n",
        "print(x)\n",
        "print(type(x))\n",
        "\n",
        "y = 3\n",
        "print(y)\n",
        "print(type(y))\n",
        "\n",
        "print(str(x))\n",
        "print(type(str(x))\n",
        "print(str(y))\n",
        "print(type(str(y))"
      ],
      "execution_count": null,
      "outputs": []
    },
    {
      "cell_type": "markdown",
      "metadata": {
        "id": "MUHMUs77n55G",
        "colab_type": "text"
      },
      "source": [
        "What if we tried converting a str that does not represent a float or int?\n",
        "\n",
        "Let’s try it:"
      ]
    },
    {
      "cell_type": "code",
      "metadata": {
        "id": "U8m7Cko-n7C9",
        "colab_type": "code",
        "colab": {}
      },
      "source": [
        "print(float(\"Hello World\"))"
      ],
      "execution_count": null,
      "outputs": []
    },
    {
      "cell_type": "markdown",
      "metadata": {
        "id": "QAbWt1KLn9Rw",
        "colab_type": "text"
      },
      "source": [
        "When performing addition on an int and str, we received TypeError. This time, it is a ValueError, which occurs when you enter a value that is not compatible for conversion. The specific reason is given: “hello world” cannot be converted to an int or float as it does not logically make sense.\n",
        "\n",
        "##2.1.2 Bool conversion\n",
        "Of course, there is also the bool data type:"
      ]
    },
    {
      "cell_type": "code",
      "metadata": {
        "id": "QyO2mLScoTcL",
        "colab_type": "code",
        "colab": {}
      },
      "source": [
        "the_bool = bool(input(\"Please enter True or False\"))\n",
        "print(the_bool)\n",
        "print(type(the_bool))"
      ],
      "execution_count": null,
      "outputs": []
    },
    {
      "cell_type": "markdown",
      "metadata": {
        "id": "1PB9he6SoUcz",
        "colab_type": "text"
      },
      "source": [
        "If you input true, True, or even TRuE, the output should be:\n",
        "\n",
        "\n",
        "```\n",
        "True\n",
        "<type 'bool'>\n",
        "```\n",
        "\n",
        "\n",
        "If you input false, False, or even FALSE, the output should be:\n",
        "\n",
        "\n",
        "```\n",
        "True\n",
        "<type 'bool'>\n",
        "```\n",
        "\n",
        "\n",
        "You are probably surprised to see that the outputs are the same. This occurs because inputs are always read as strings. In Python, if you convert a str to a bool, it will result in True ONLY if the str is not empty. If the str is empty, “” (empty quotations), then Python will convert this to False.\n",
        "\n",
        "If you input an empty string ‘’ (single quotes) or “” (double quotes), the output will be:\n",
        "\n",
        "\n",
        "```\n",
        "False\n",
        "<type 'bool'>\n",
        "```\n",
        "\n",
        "\n",
        "What about int and float values? If an int value is 0, converting it to a bool will result in False. Every other integer number (including negative numbers) will result in True:"
      ]
    },
    {
      "cell_type": "code",
      "metadata": {
        "id": "3T_jNtP8ofpS",
        "colab_type": "code",
        "colab": {}
      },
      "source": [
        "print(bool(0))   \n",
        "print(bool(1))\n",
        "print(bool(-1))"
      ],
      "execution_count": null,
      "outputs": []
    },
    {
      "cell_type": "markdown",
      "metadata": {
        "id": "N10e3oKiojV0",
        "colab_type": "text"
      },
      "source": [
        "For a float value, if the value is 0.0, converting it to a bool will result in False. Like int values, every other float number (including negative numbers) will result in True:"
      ]
    },
    {
      "cell_type": "code",
      "metadata": {
        "id": "peqo08stolSN",
        "colab_type": "code",
        "colab": {}
      },
      "source": [
        "print(bool(0))\n",
        "print(bool(1.5))\n",
        "print(bool(-1.5))"
      ],
      "execution_count": null,
      "outputs": []
    },
    {
      "cell_type": "markdown",
      "metadata": {
        "id": "VzRXhzTaooMK",
        "colab_type": "text"
      },
      "source": [
        "How about converting a bool to a str, float, or int?\n",
        "\n",
        "Since a bool can only be True or False, if you convert a bool to a str, it will become “True” or “False”.\n",
        "\n",
        "Try running the following program:"
      ]
    },
    {
      "cell_type": "code",
      "metadata": {
        "id": "61goHthuopdP",
        "colab_type": "code",
        "colab": {}
      },
      "source": [
        "print(str(True))\n",
        "print(type(str(True)))\n",
        "print(str(False))\n",
        "print(type(str(False)))"
      ],
      "execution_count": null,
      "outputs": []
    },
    {
      "cell_type": "markdown",
      "metadata": {
        "id": "IxwgdAIAorg7",
        "colab_type": "text"
      },
      "source": [
        "As for int, converting a bool will result in 0 if the bool is False, and 1 if the bool is True.\n",
        "\n",
        "Run the following program:"
      ]
    },
    {
      "cell_type": "code",
      "metadata": {
        "id": "oi-4TUlzovo0",
        "colab_type": "code",
        "colab": {}
      },
      "source": [
        "print(int(True))\n",
        "print(type(int(True)))\n",
        "print(int(False))\n",
        "print(type(int(False)))"
      ],
      "execution_count": null,
      "outputs": []
    },
    {
      "cell_type": "markdown",
      "metadata": {
        "id": "mLPULSRmouXV",
        "colab_type": "text"
      },
      "source": [
        "Similarly, converting a bool to a float will result in 0.0, if the bool is False, and 1 if the bool is True.\n",
        "\n",
        "Run the following program:"
      ]
    },
    {
      "cell_type": "code",
      "metadata": {
        "id": "sfHJmZt9o2N7",
        "colab_type": "code",
        "colab": {}
      },
      "source": [
        "print(float(True))\n",
        "print(type(float(True))\n",
        "print(float(False))\n",
        "print(type(float(False))"
      ],
      "execution_count": null,
      "outputs": []
    },
    {
      "cell_type": "markdown",
      "metadata": {
        "id": "cGiGcXC-o60O",
        "colab_type": "text"
      },
      "source": [
        "##2.1.3 Printing literal plus variables\n",
        "Let us continue on with the use of input and make the program more interactive.\n",
        "\n",
        "Run the following program and enter your name:"
      ]
    },
    {
      "cell_type": "code",
      "metadata": {
        "id": "TMyilgqPo8R1",
        "colab_type": "code",
        "colab": {}
      },
      "source": [
        "your_name = input(\"Please enter your name\")\n",
        "print(\"Hello\", your_name)"
      ],
      "execution_count": null,
      "outputs": []
    },
    {
      "cell_type": "markdown",
      "metadata": {
        "id": "tK_p3iSgo-iT",
        "colab_type": "text"
      },
      "source": [
        "\n",
        "```\n",
        "Please enter your namejohn\n",
        "Hello john\n",
        "```\n",
        "\n",
        "Notice that we can print more than one value by separating them with commas. This is especially useful for formatting.\n",
        "\n",
        "For example:\n"
      ]
    },
    {
      "cell_type": "code",
      "metadata": {
        "id": "GKuEfPsppfz2",
        "colab_type": "code",
        "colab": {}
      },
      "source": [
        "your_name = input(\"Please enter your name\")\n",
        "print(\"Hello\", your_name, \"Welcome to Python!\")"
      ],
      "execution_count": null,
      "outputs": []
    },
    {
      "cell_type": "markdown",
      "metadata": {
        "id": "xIZU1CkdpgoN",
        "colab_type": "text"
      },
      "source": [
        "Write a program that asks the user for their name and age, and then print:\n",
        "\n",
        "\n",
        "```\n",
        "Hello (name)! You are (age) years old.\n",
        "```\n",
        "\n"
      ]
    },
    {
      "cell_type": "code",
      "metadata": {
        "id": "G8BGnHtLplqX",
        "colab_type": "code",
        "colab": {}
      },
      "source": [
        ""
      ],
      "execution_count": null,
      "outputs": []
    },
    {
      "cell_type": "markdown",
      "metadata": {
        "id": "_eXaD8VDpnSu",
        "colab_type": "text"
      },
      "source": [
        "#2.2 CONDITIONAL STATEMENTS \n",
        "\n",
        "When programming, you sometimes want to have something occur based on a certain condition. This also applies to real life situations. For example, recall the practice problem with swapping an apple for money from lesson 1.3.\n",
        "\n",
        "In a real situation, you would only follow through with the exchange if the person can afford to purchase the apple.\n",
        "\n",
        "To check if a condition is met in Python, we use an if statement.\n",
        "\n",
        "Run the following program:"
      ]
    },
    {
      "cell_type": "code",
      "metadata": {
        "id": "Zsw_Eifeqxzj",
        "colab_type": "code",
        "colab": {}
      },
      "source": [
        "cost = float(input(\"How much for the Apple\"))\n",
        "money = float(input(\"How much money do I have?\"))\n",
        "\n",
        "if money > cost:\n",
        "    print(\"I can afford the Apple\")"
      ],
      "execution_count": null,
      "outputs": []
    },
    {
      "cell_type": "markdown",
      "metadata": {
        "id": "HmgNuCQoq2k2",
        "colab_type": "text"
      },
      "source": [
        "This program asks the user to input the cost of the apple, and how much the person currently has. If the person currently has more money than the cost, the program will output, “I can afford the Apple”. In this case, the condition is that money must be greater than the cost. If you have more money, you can afford the cost of an apple.\n",
        "\n",
        "The if statement is written by using the keyword if, followed by a condition, and then a : (colon). In the line below the statement, press tab to start with an indent. Then, write the action you want to perform. In this case, we placed a print statement inside the if statement. The indent indicates that the print statement is INSIDE the if statement.\n",
        "\n",
        "The general format for an if statement is:\n",
        "\n",
        "```\n",
        "if condition:\n",
        "    action\n",
        "```\n",
        "\n",
        "Let’s continue writing code after the if statement:"
      ]
    },
    {
      "cell_type": "code",
      "metadata": {
        "id": "0CV5GnOXq7xr",
        "colab_type": "code",
        "colab": {}
      },
      "source": [
        "cost = float(input(\"How much for the Apple\"))\n",
        "money = float(input(\"How much money do I have?\"))\n",
        "\n",
        "if money > cost:\n",
        "    print(\"I can afford the Apple\")\n",
        "\n",
        "print(\"After the if statement\")"
      ],
      "execution_count": null,
      "outputs": []
    },
    {
      "cell_type": "markdown",
      "metadata": {
        "id": "04S1DDOkq-au",
        "colab_type": "text"
      },
      "source": [
        "Notice that the print statement after the if statement (not the one inside) will always run, regardless of the condition. This is because it is outside of the if statement. Code outside the if statement is not affected.\n",
        "\n",
        "Recall that a bool (boolean) represents True or False values. If we look at the if statement we have set the condition to be money > cost. Is the value of money greater than the value of cost? The answer to such a question is yes or no—or in computer science, True or False.\n",
        "\n",
        "Let’s hardcode our values for cost and money and run the following program:"
      ]
    },
    {
      "cell_type": "code",
      "metadata": {
        "id": "wk-ujUhNC2s_",
        "colab_type": "code",
        "colab": {}
      },
      "source": [
        "cost = 1.5\n",
        "money = 4.5\n",
        "\n",
        "print(money > cost)\n",
        "print(type(money > cost))"
      ],
      "execution_count": null,
      "outputs": []
    },
    {
      "cell_type": "markdown",
      "metadata": {
        "id": "EdQIUmm5C5gZ",
        "colab_type": "text"
      },
      "source": [
        "Notice that the type of a condition is bool (boolean).\n",
        "\n",
        "We can also have multiple if statements!\n",
        "\n",
        "Run the following code:"
      ]
    },
    {
      "cell_type": "code",
      "metadata": {
        "id": "oUnfyq4eC8Y2",
        "colab_type": "code",
        "colab": {}
      },
      "source": [
        "num = int(input(\"Please enter an integer value\"))\n",
        "\n",
        "if num > 0:\n",
        "    print(\"The number is positive\")\n",
        "    \n",
        "if num > 20:\n",
        "    print(\"The number is greater than 20\")"
      ],
      "execution_count": null,
      "outputs": []
    },
    {
      "cell_type": "markdown",
      "metadata": {
        "id": "29yNjLy7C_FN",
        "colab_type": "text"
      },
      "source": [
        "It is also common for programmers to leave a line empty in between various if statements so that it would be easier to read the code.\n",
        "\n",
        "Sometimes we may want to avoid having multiple if statements and just want only one condition. If it works, then print this, otherwise print that. To achieve this, we use the else keyword."
      ]
    },
    {
      "cell_type": "code",
      "metadata": {
        "id": "6gZVo5U1DBqW",
        "colab_type": "code",
        "colab": {}
      },
      "source": [
        "num = int(input(\"Please enter an integer value\"))\n",
        "\n",
        "if num > 0:\n",
        "    print(\"The number is positive\")\n",
        "    \n",
        "else:\n",
        "    print(\"The number is not positive\")"
      ],
      "execution_count": null,
      "outputs": []
    },
    {
      "cell_type": "markdown",
      "metadata": {
        "id": "w6nq0rXnDEtr",
        "colab_type": "text"
      },
      "source": [
        "Notice that the else statement does not require a condition because it will run the code inside the else statement if the if statement above is False. You can think of if, else as one or the other. You can only have one else statement for each if statement.\n",
        "\n",
        "##2.2.1 Nested conditions\n",
        "\n",
        "We can also have additional conditional statements inside the given if and else statements."
      ]
    },
    {
      "cell_type": "code",
      "metadata": {
        "id": "3BWI6vPNDEMV",
        "colab_type": "code",
        "colab": {}
      },
      "source": [
        "num = int(input(\"Please enter an integer value\"))\n",
        "\n",
        "if num > 0:\n",
        "    if num < 20:\n",
        "        print(\"The number is positive and less than 20\")\n",
        "    else:\n",
        "        print(\"The number is positive\")\n",
        "\n",
        "else:\n",
        "    print(\"The number is not positive\")"
      ],
      "execution_count": null,
      "outputs": []
    },
    {
      "cell_type": "markdown",
      "metadata": {
        "id": "T8mNBGp4DLr4",
        "colab_type": "text"
      },
      "source": [
        "This is known as nested conditional statements, which occur when an if statement is inside an if or else statement.\n",
        "\n",
        "According to the conditional statements in the program above:\n",
        "\n",
        "```\n",
        "If we input 19 for num, we can expect it to print “The number is positive and less than 20”, since it is greater than 0 and also less than 20.\n",
        "If we input 20 for num, we can expect it to print “The number is positive”, since it is greater than 0 but not less than 20.\n",
        "If we input 0 for num, the first if condition will become False, since 0 is not greater than 0.\n",
        "We will then go to the else statement and print The number is not positive.\n",
        "Finally, we may want to add conditions in between if and else statements. As mentioned earlier, if and else can be seen as one or the other. However, we may want to have various if conditions that run only when the previous condition is False.\n",
        "```\n",
        "\n",
        "For example, I may want to go to a grocery store and purchase a refreshment because I’m thirsty:\n",
        "\n",
        "I want soda. If they don’t have soda, I will get juice. If they do not have juice, I will just get water.\n",
        "For this situation, we would want to use the equality to check if the refreshment is actually a soda or juice. We’ve seen the less than (<) and greater than (>) comparisons. To do an equality comparison, the syntax is ==, two equal symbols. The single = symbol is used for assignment.\n",
        "\n",
        "The following program represents such a scenario:\n",
        "\n",
        "```\n",
        "refreshment = input(\"What refreshment is available?\")\n",
        "\n",
        "if refreshment == \"soda\":\n",
        "    print(\"I will purchase soda\")\n",
        "\n",
        "else:\n",
        "    if refreshment == \"juice\":\n",
        "        print(\"I will purchase juice\")\n",
        "    else:\n",
        "        print(\"I will purchase water\")\n",
        "```\n",
        "\n",
        "If “soda” is the refreshment available, the program will print “I will purchase soda” and not go through with the else statement.\n",
        "\n",
        "If not, it will go through a nested if statement inside the else statement to check if the refreshment available is “juice”. If the refreshment is not equal to “juice”, then we will have the program print “I will purchase water”.\n",
        "\n",
        "##2.2.2 Using elif\n",
        "\n",
        "We can shorten the program above by merging the nested statements inside the outer else statement.\n",
        "\n",
        "\n",
        "```\n",
        "refreshment = input(\"What refreshment is available?\")\n",
        "\n",
        "if refreshment == \"soda\":\n",
        "    print(\"I will purchase soda\")\n",
        "\n",
        "elif refreshment == \"juice\":\n",
        "    print(\"I will purchase juice\")\n",
        "else:\n",
        "    print(\"I will purchase water\")\n",
        "```\n",
        "\n",
        "When you have an if statement nested inside an else statement, you can merge them to become an elif (else if) statement. If there is also an else statement nested, simply take it out.\n",
        "\n",
        "We can also have inequality, which is represented by the syntax !=.\n",
        "\n",
        "To illustrate, let’s change the previous example to where I will buy a refreshment if it’s not water.\n",
        "\n",
        "refreshment = input(\"What refreshment is available?\")\n",
        "\n",
        "if refreshment != \"water\":\n",
        "    print(\"I will purchase this refreshment\")\n",
        "If the refreshment available is “juice”, the program will print “I will purchase this refreshment”, since the condition refreshment != “water” becomes True since the refreshment is “juice”.\n",
        "\n",
        "Let’s see what happens when we change the program by making != into == :"
      ]
    },
    {
      "cell_type": "code",
      "metadata": {
        "id": "EfIdJ9hTDbM6",
        "colab_type": "code",
        "colab": {}
      },
      "source": [
        "refreshment = input(\"What refreshment is available?\")\n",
        "\n",
        "if refreshment == \"water\":\n",
        "    print(\"I will purchase this refreshment\")"
      ],
      "execution_count": null,
      "outputs": []
    },
    {
      "cell_type": "markdown",
      "metadata": {
        "id": "HuNFwMvPDfEW",
        "colab_type": "text"
      },
      "source": [
        "Then the program will only run the print statement if the refreshment is “water”.\n",
        "\n",
        "The comparisons we made so far include > (greater than), < (less than), == (equal to), and !=(not equal to). The symbols used for >, <, ==, and != are called comparison operators.\n",
        "\n",
        "There are also <= (less than or equal to) and >= (greater than or equal to) symbols. In addition, we can create a range using these comparison operators.\n",
        "\n",
        "An exclusive example, which includes an open range (not including 10.5 and 20.5):\n",
        "\n",
        "\n",
        "```\n",
        "num = float(input(\"Please enter a number\")\n",
        "\n",
        "if 10.5 < num < 20.5: \n",
        "    print(\"The number is between 10.5 and 20.5, exclusively\")\n",
        "An inclusive example, which includes a closed range (including 10.5 and 20.5):\n",
        "\n",
        "num = float(input(\"Please enter a number\")\n",
        "\n",
        "if 10.5 <= num <= 20.5:\n",
        "    print(\"The number is between 10.5 and 20.5, inclusively\")\n",
        "```\n"
      ]
    },
    {
      "cell_type": "markdown",
      "metadata": {
        "id": "gs8-GQT5Dskk",
        "colab_type": "text"
      },
      "source": [
        "##2.2.3 Practice1\n",
        "\n",
        "Write a program that asks the user to enter the temperature today in Celsius. Depending on the conditions, the program will have different responses. If the temperature is below 15, then the program will print “It is cold.” If the temperature is above 15 but below 20, the program will print “It is warm.” For any other temperature, the program will print “It is hot.”\n",
        "\n",
        "Here is the code for you to start:"
      ]
    },
    {
      "cell_type": "code",
      "metadata": {
        "id": "C02haUXbDvXy",
        "colab_type": "code",
        "colab": {}
      },
      "source": [
        "temperature = 10\n",
        "\n",
        "# TODO: finish code here"
      ],
      "execution_count": null,
      "outputs": []
    },
    {
      "cell_type": "markdown",
      "metadata": {
        "id": "HSPWhsT0El1l",
        "colab_type": "text"
      },
      "source": [
        "##2.2.4 Str comparison\n",
        "\n",
        "We have made comparisons between int and float values. However, how does str compare? We know that the == results in True if the strings have the same exact characters and != results in True if the strings do not have the same exact characters.\n",
        "\n",
        "What about the other comparison operators like <, >, <=, and >= ?\n",
        "\n",
        "Let’s find out:"
      ]
    },
    {
      "cell_type": "code",
      "metadata": {
        "id": "Rq6qJIgsEpCV",
        "colab_type": "code",
        "colab": {}
      },
      "source": [
        "String1 = \"Hello\"\n",
        "String2 = \"World\"\n",
        "\n",
        "print(String1 < String2)"
      ],
      "execution_count": null,
      "outputs": []
    },
    {
      "cell_type": "markdown",
      "metadata": {
        "id": "cYLkP7zFEyIr",
        "colab_type": "text"
      },
      "source": [
        "What happened? How is the comparison done? This comparison is done by ordinance. Ordinance refers to the numerical ranking of each character using an ASCII table (is shown below). \n",
        "\n",
        "##2.2.5 ASCII table \n",
        "\n",
        "```\n",
        "Dec\tHex\tOct\tChar\tDescription\n",
        "0\t00\t000\t^@\tNull (NUL)\n",
        "1\t01\t001\t^A\tStart of heading (SOH)\n",
        "2\t02\t002\t^B\tStart of text (STX)\n",
        "3\t03\t003\t^C\tEnd of text (ETX)\n",
        "4\t04\t004\t^D\tEnd of transmission (EOT)\n",
        "5\t05\t005\t^E\tEnquiry (ENQ)\n",
        "6\t06\t006\t^F\tAcknowledge (ACK)\n",
        "7\t07\t007\t^G\tBell (BEL)\n",
        "8\t08\t010\t^H\tBackspace (BS)\n",
        "9\t09\t011\t^I\tHorizontal tab (HT)\n",
        "10\t0A\t012\t^J\tLine feed (LF)\n",
        "11\t0B\t013\t^K\tVertical tab (VT)\n",
        "12\t0C\t014\t^L\tNew page/form feed (FF)\n",
        "13\t0D\t015\t^M\tCarriage return (CR)\n",
        "14\t0E\t016\t^N\tShift out (SO)\n",
        "15\t0F\t017\t^O\tShift in (SI)\n",
        "16\t10\t020\t^P\tData link escape (DLE)\n",
        "17\t11\t021\t^Q\tDevice control 1 (DC1)\n",
        "18\t12\t022\t^R\tDevice control 2 (DC2)\n",
        "19\t13\t023\t^S\tDevice control 3 (DC3)\n",
        "20\t14\t024\t^T\tDevice control 4 (DC4)\n",
        "21\t15\t025\t^U\tNegative acknowledge (NAK)\n",
        "22\t16\t026\t^V\tSynchronous idle (SYN)\n",
        "23\t17\t027\t^W\tEnd of transmission block (ETB)\n",
        "24\t18\t030\t^X\tCancel (CAN)\n",
        "25\t19\t031\t^Y\tEnd of medium (EM)\n",
        "26\t1A\t032\t^Z\tSubstitute (SUB)\n",
        "27\t1B\t033\t^[\tEscape (ESC)\n",
        "28\t1C\t034\t^\\\tFile separator (FS)\n",
        "29\t1D\t035\t^]\tGroup separator (GS)\n",
        "30\t1E\t036\t^^\tRecord separator (RS)\n",
        "31\t1F\t037\t^_\tUnit separator (US)\n",
        "32\t20\t040\t\tSpace\n",
        "33\t21\t041\t!\tExclamation mark\n",
        "34\t22\t042\t\"\tQuotation mark/Double quote\n",
        "35\t23\t043\t#\tNumber sign\n",
        "36\t24\t044\t$\tDollar sign\n",
        "37\t25\t045\t%\tPercent sign\n",
        "38\t26\t046\t&\tAmpersand\n",
        "39\t27\t047\t'\tApostrophe/Single quote\n",
        "40\t28\t050\t(\tLeft parenthesis\n",
        "41\t29\t051\t)\tRight parenthesis\n",
        "42\t2A\t052\t*\tAsterisk\n",
        "43\t2B\t053\t+\tPlus sign\n",
        "44\t2C\t054\t,\tComma\n",
        "45\t2D\t055\t-\tHyphen/Minus\n",
        "46\t2E\t056\t.\tFull stop/Period\n",
        "47\t2F\t057\t/\tSolidus/Slash\n",
        "48\t30\t060\t0\tDigit zero\n",
        "49\t31\t061\t1\tDigit one\n",
        "50\t32\t062\t2\tDigit two\n",
        "51\t33\t063\t3\tDigit three\n",
        "52\t34\t064\t4\tDigit four\n",
        "53\t35\t065\t5\tDigit five\n",
        "54\t36\t066\t6\tDigit six\n",
        "55\t37\t067\t7\tDigit seven\n",
        "56\t38\t070\t8\tDigit eight\n",
        "57\t39\t071\t9\tDigit nine\n",
        "58\t3A\t072\t:\tColon\n",
        "59\t3B\t073\t;\tSemicolon\n",
        "60\t3C\t074\t<\tLess-than sign\n",
        "61\t3D\t075\t=\tEqual/Equality sign\n",
        "62\t3E\t076\t>\tGreater-than sign\n",
        "63\t3F\t077\t?\tQuestion mark\n",
        "\n",
        "Dec\tHex\tOct\tChar\tDescription\n",
        "64\t40\t100\t@\tCommercial at/At sign\n",
        "65\t41\t101\tA\tLatin capital letter A\n",
        "66\t42\t102\tB\tLatin capital letter B\n",
        "67\t43\t103\tC\tLatin capital letter C\n",
        "68\t44\t104\tD\tLatin capital letter D\n",
        "69\t45\t105\tE\tLatin capital letter E\n",
        "70\t46\t106\tF\tLatin capital letter F\n",
        "71\t47\t107\tG\tLatin capital letter G\n",
        "72\t48\t110\tH\tLatin capital letter H\n",
        "73\t49\t111\tI\tLatin capital letter I\n",
        "74\t4A\t112\tJ\tLatin capital letter J\n",
        "75\t4B\t113\tK\tLatin capital letter K\n",
        "76\t4C\t114\tL\tLatin capital letter L\n",
        "77\t4D\t115\tM\tLatin capital letter M\n",
        "78\t4E\t116\tN\tLatin capital letter N\n",
        "79\t4F\t117\tO\tLatin capital letter O\n",
        "80\t50\t120\tP\tLatin capital letter P\n",
        "81\t51\t121\tQ\tLatin capital letter Q\n",
        "82\t52\t122\tR\tLatin capital letter R\n",
        "83\t53\t123\tS\tLatin capital letter S\n",
        "84\t54\t124\tT\tLatin capital letter T\n",
        "85\t55\t125\tU\tLatin capital letter U\n",
        "86\t56\t126\tV\tLatin capital letter V\n",
        "87\t57\t127\tW\tLatin capital letter W\n",
        "88\t58\t130\tX\tLatin capital letter X\n",
        "89\t59\t131\tY\tLatin capital letter Y\n",
        "90\t5A\t132\tZ\tLatin capital letter Z\n",
        "91\t5B\t133\t[\tLeft square bracket\n",
        "92\t5C\t134\t\\\tReverse solidus/Backslash\n",
        "93\t5D\t135\t]\tRight square bracket\n",
        "94\t5E\t136\t^\tCircumflex accent/Caret\n",
        "95\t5F\t137\t_\tUnderscore/Low line\n",
        "96\t60\t140\t`\tGrave accent\n",
        "97\t61\t141\ta\tLatin small letter a\n",
        "98\t62\t142\tb\tLatin small letter b\n",
        "99\t63\t143\tc\tLatin small letter c\n",
        "100\t64\t144\td\tLatin small letter d\n",
        "101\t65\t145\te\tLatin small letter e\n",
        "102\t66\t146\tf\tLatin small letter f\n",
        "103\t67\t147\tg\tLatin small letter g\n",
        "104\t68\t150\th\tLatin small letter h\n",
        "105\t69\t151\ti\tLatin small letter i\n",
        "106\t6A\t152\tj\tLatin small letter j\n",
        "107\t6B\t153\tk\tLatin small letter k\n",
        "108\t6C\t154\tl\tLatin small letter l\n",
        "109\t6D\t155\tm\tLatin small letter m\n",
        "110\t6E\t156\tn\tLatin small letter n\n",
        "111\t6F\t157\to\tLatin small letter o\n",
        "112\t70\t160\tp\tLatin small letter p\n",
        "113\t71\t161\tq\tLatin small letter q\n",
        "114\t72\t162\tr\tLatin small letter r\n",
        "115\t73\t163\ts\tLatin small letter s\n",
        "116\t74\t164\tt\tLatin small letter t\n",
        "117\t75\t165\tu\tLatin small letter u\n",
        "118\t76\t166\tv\tLatin small letter v\n",
        "119\t77\t167\tw\tLatin small letter w\n",
        "120\t78\t170\tx\tLatin small letter x\n",
        "121\t79\t171\ty\tLatin small letter y\n",
        "122\t7A\t172\tz\tLatin small letter z\n",
        "123\t7B\t173\t{\tLeft curly bracket\n",
        "124\t7C\t174\t|\tVertical line/Vertical bar\n",
        "125\t7D\t175\t}\tRight curly bracket\n",
        "126\t7E\t176\t~\tTilde\n",
        "127\t7F\t177\tDEL\tDelete (DEL)\n",
        "```\n",
        "\n",
        "\n"
      ]
    },
    {
      "cell_type": "markdown",
      "metadata": {
        "id": "jdkxW1H3GA1m",
        "colab_type": "text"
      },
      "source": [
        "##2.2.6 Bool comparison\n",
        "\n",
        "So far, we have made comparisons between str, int, float data types. We can also compare bool data types.\n",
        "\n",
        "We can rewrite the problem to ask the user if there is water at the grocery store. If there is, purchase it.\n",
        "\n",
        "```\n",
        "is_water = bool(input(\"Is water available (True or False)?\"\"))\n",
        "\n",
        "if is_water == True:\n",
        "    print(\"I will purchase this refreshment\")\n",
        "```\n",
        "\n",
        "To respond to the question, the user would be prompted to enter True or False. However, if you recall from the previous lesson for str to bool conversion, only an empty str will result in False if converted to a bool.\n",
        "\n",
        "Thus, we would have to rewrite the program like so:\n",
        "\n",
        "\n",
        "```\n",
        "is_water = input(\"Is water available (True or False)?\")\n",
        "\n",
        "if is_water == \"True\":\n",
        "    is_water = True\n",
        "else:\n",
        "    is_water = False\n",
        "\n",
        "if is_water == True:\n",
        "    print(\"I will purchase this refreshment\")\n",
        "```\n",
        "\n",
        "\n",
        "We can simplify this further. For this demonstration, we will assume the user has already input “True”.\n",
        "\n",
        "```\n",
        "is_water = True\n",
        "\n",
        "if is_water == True:\n",
        "    print(\"I will purchase this refreshment\")\n",
        "```\n",
        "\n",
        "Since we hardcoded the program to set is_water to be True, running it will display “I will purchase this refreshment”.\n",
        "\n",
        "Notice that the value of is_water is True, and in the comparison, we are comparing is_water to a boolean, True.\n",
        "\n",
        "Thus, we are simply asking is True == True. Since True is equal to True, the condition will be True.\n",
        "\n",
        "What if the user inputs False?\n",
        "\n",
        "```\n",
        "is_water = False\n",
        "\n",
        "if is_water == True:\n",
        "    print(\"I will purchase this refreshment\")\n",
        "```\n",
        "\n",
        "The program will not print “I will purchase this refreshment” since False == True is False.\n",
        "\n",
        "Notice that we made an unnecessary comparison check.\n",
        "\n",
        "If is_water == True, then is_water == True will always result in True. If is_water == False, then is_water == True will always result in False.\n",
        "\n",
        "We can simplify the program to avoid the unnecessary comparison check.\n",
        "\n",
        "Run the following program:"
      ]
    },
    {
      "cell_type": "code",
      "metadata": {
        "id": "fkHk8h8JFwbn",
        "colab_type": "code",
        "colab": {}
      },
      "source": [
        "is_water = True\n",
        "\n",
        "if is_water:\n",
        "    print(\"I will purchase this refreshment\")"
      ],
      "execution_count": null,
      "outputs": []
    },
    {
      "cell_type": "markdown",
      "metadata": {
        "id": "paYh2DLuGf_7",
        "colab_type": "text"
      },
      "source": [
        "Notice that we did not need to write is_water == True because is_water itself is a bool. Thus, we can simply say if is_water to check if it is True.\n",
        "\n",
        "But what happens if we enter a condition that is not a bool nor a comparison which results in a bool?\n",
        "\n",
        "Recall that the general format for an if conditional statement is:\n",
        "\n",
        "\n",
        "\n",
        "```\n",
        "if (condition):\n",
        "    (action)\n",
        "```\n",
        "\n",
        "\n",
        "We also stated that the condition is of the bool data type. So what happens if we enter an int, float, or str?\n",
        "\n",
        "The int, float, or str value will be converted to a bool.\n",
        "\n",
        "\n",
        "\n",
        "```\n",
        "if 1 == True:\n",
        "    print(\"The int 1 is converted to True\")\n",
        "```\n",
        "\n",
        "\n",
        "Again, we can also avoid the comparison:\n",
        "\n",
        "\n",
        "\n",
        "```\n",
        "if 1:\n",
        "    print(\"the int 1 is converted to True\")\n",
        "```\n",
        "\n",
        "\n",
        "As mentioned in lesson 2.1, an int will convert to True if it is any number other than 0.\n",
        "\n",
        "If the int value is 0, it will be converted to False:\n",
        "\n",
        "\n",
        "\n",
        "```\n",
        "if 0:\n",
        "    print(\"The int 0 is converted to False\")\n",
        "```\n",
        "\n",
        "\n",
        "Of course, we can make a comparison to allow the condition to become True:\n",
        "\n",
        "\n",
        "\n",
        "```\n",
        "if 0 == False:\n",
        "    print(\"The int 0 is converted to False\")\n",
        "```\n",
        "\n",
        "\n",
        "Here is a table showing the conversion from str, int, float to a bool.\n",
        "\n",
        "```\n",
        "TYPE_X     TRUE    FALSE\n",
        "\n",
        "int         x!=0    x==0  \n",
        "float       x!=0.0  x==0.0  \n",
        "str         x!=''   x==''  \n",
        "\n",
        "\n",
        "```\n",
        "\n",
        "##2.2.7 None Type\n",
        "\n",
        "In addition, using a variable that is assigned None, as a condition will result in the condition being False:"
      ]
    },
    {
      "cell_type": "code",
      "metadata": {
        "id": "MLrPuOBZGsjW",
        "colab_type": "code",
        "colab": {}
      },
      "source": [
        "x = None\n",
        "if (x == False):\n",
        "    print (\"None is False\")\n",
        "if (x != True):\n",
        "    print(\"None is not True\")"
      ],
      "execution_count": null,
      "outputs": []
    },
    {
      "cell_type": "markdown",
      "metadata": {
        "id": "L75ydnybz_mb",
        "colab_type": "text"
      },
      "source": [
        "Earlier, the following code was provided to have the user input True or False."
      ]
    },
    {
      "cell_type": "code",
      "metadata": {
        "id": "QWYgy1yn0Ch3",
        "colab_type": "code",
        "colab": {
          "base_uri": "https://localhost:8080/",
          "height": 71
        },
        "outputId": "45504d2c-371d-4622-dcf4-bd0ec7b3fc24"
      },
      "source": [
        "is_water = input(\"Is water available (True or False)?\")\n",
        "\n",
        "if is_water == \"True\":\n",
        "    is_water = True\n",
        "else:\n",
        "    is_water = False\n",
        "\n",
        "if is_water == True:\n",
        "    print(\"I will purchase this refreshment\")\n"
      ],
      "execution_count": null,
      "outputs": [
        {
          "output_type": "stream",
          "text": [
            "Is water available (True or False)?True\n",
            "I will purchase this drink\n"
          ],
          "name": "stdout"
        }
      ]
    },
    {
      "cell_type": "markdown",
      "metadata": {
        "id": "X_D2XkLPIao_",
        "colab_type": "text"
      },
      "source": [
        "Using your knowledge of type conversion and boolean conditions, have the user input a 1 or 0 to answer the question, “Is water available?” (1 if True, 0 if False). Have the program print “I will purchase this refreshment” if water is available.\n",
        "\n",
        "Note: We don’t want the program to fail silently, which means that the program does not display or change anything after running because of conditions that do not meet or because of errors in the program.\n",
        "\n",
        "In this case, the program will fail silently if we input a 0. To avoid silent failure, include an else statement with the if statement to have it print “I will not purchase this refreshment”.\n",
        "\n",
        "Here’s the code for you to start:"
      ]
    },
    {
      "cell_type": "code",
      "metadata": {
        "id": "l_OAnAG9IiZE",
        "colab_type": "code",
        "colab": {}
      },
      "source": [
        "is_water = int(input(\"Is water available? (1 if True or 0 if False)?\"))\n",
        "\n",
        "# TODO: finish code here"
      ],
      "execution_count": null,
      "outputs": []
    },
    {
      "cell_type": "markdown",
      "metadata": {
        "id": "-utvnabeInF6",
        "colab_type": "text"
      },
      "source": [
        "Your solution should be noticeably cleaner and shorter. In addition, having the user enter a single digit is an added convenience!"
      ]
    },
    {
      "cell_type": "markdown",
      "metadata": {
        "id": "565YOtT3KMHI",
        "colab_type": "text"
      },
      "source": [
        "#2.3 LOGICAL OPERATORS\n",
        "\n"
      ]
    },
    {
      "cell_type": "markdown",
      "metadata": {
        "id": "gt7cT94jI18J",
        "colab_type": "text"
      },
      "source": [
        "##2.3.1 And operator\n",
        "\n",
        "There are times when you may want multiple conditions to be met before running code inside an if statement. The most common case is when you want more than one conditions to be met.\n",
        "\n",
        "To write multiple conditions that need to be met, we need to use the keyword, and. The keyword, and, is a logical operator that requires ALL conditions to be met.\n",
        "\n",
        "For example, let’s visit the grocery store once again. You want to purchase a refreshment. Like in the original case, you want to purchase soda. You can only purchase soda if it is available. In addition, you will need money to purchase soda. Only when those two cases are met will you be able to purchase your beverage.\n",
        "\n",
        "Let’s assume you have enough money and that the refreshment is indeed soda water. We will hardcode this.\n",
        "\n",
        "The program will be written as such:\n",
        "\n",
        "\n",
        "\n",
        "```\n",
        "is_soda = True\n",
        "have_money = True\n",
        "\n",
        "if is_soda == True and have_money == True:\n",
        "    print(\"I will purchase this refreshment\")\n",
        "Of course, we can simplify this by removing unnecessary comparisons:\n",
        "\n",
        "is_soda = True\n",
        "have_money = True\n",
        "\n",
        "if is_soda and have_money:\n",
        "    print(\"I will purchase this refreshment\")\n",
        "```\n",
        "\n",
        "\n",
        "Notice that since both conditions are met, the print statement was able to run.\n",
        "\n",
        "However, what happens if one of the conditions is not met?"
      ]
    },
    {
      "cell_type": "code",
      "metadata": {
        "id": "dBj1Vue6JClv",
        "colab_type": "code",
        "colab": {}
      },
      "source": [
        "is_soda = True\n",
        "have_money = False\n",
        "\n",
        "if is_soda and have_money:\n",
        "    print(\"I will purchase this refreshment\")"
      ],
      "execution_count": null,
      "outputs": []
    },
    {
      "cell_type": "markdown",
      "metadata": {
        "id": "mPy32PawJHxq",
        "colab_type": "text"
      },
      "source": [
        "Because both conditions were not met in the if statement, the program did not run the print statement. As you learned in the previous lesson, because there was no else statement, the program simply failed silently.\n",
        "\n",
        "We can also chain the and logic operator and have more than 2 conditions.\n",
        "\n",
        "Let’s revise the grocery store situation so that you will only purchase the soda if you are also thirsty:"
      ]
    },
    {
      "cell_type": "code",
      "metadata": {
        "id": "G6RaP_3NJLp5",
        "colab_type": "code",
        "colab": {}
      },
      "source": [
        "is_soda = True\n",
        "have_money = True\n",
        "is_thirsty = True\n",
        "\n",
        "if is_soda and have_money and is_thirsty:\n",
        "    print(\"I will purchase this refreshment\")"
      ],
      "execution_count": null,
      "outputs": []
    },
    {
      "cell_type": "markdown",
      "metadata": {
        "id": "7_YmQsNKJP5Z",
        "colab_type": "text"
      },
      "source": [
        "Of course, if any of those three variables happened to be False, then we will experience silent failure.\n",
        "\n",
        "Let’s fix that and change it so that you are currently not thirsty and make sure our program does not fail silently:"
      ]
    },
    {
      "cell_type": "code",
      "metadata": {
        "id": "cf7ewPLMJTb5",
        "colab_type": "code",
        "colab": {}
      },
      "source": [
        "is_soda = True\n",
        "have_money = True\n",
        "is_thirsty = False\n",
        "\n",
        "if is_soda and have_money and is_thirsty:\n",
        "    print(\"I will purchase this refreshment\")\n",
        "else:\n",
        "    print(\"I will not purchase this refreshment\")"
      ],
      "execution_count": null,
      "outputs": []
    },
    {
      "cell_type": "markdown",
      "metadata": {
        "id": "E_Jhs2frJXqK",
        "colab_type": "text"
      },
      "source": [
        "Sometimes we may have varying print statements if conditions are not met, especially if all conditions must be met. We want to indicate what caused the condition to become False."
      ]
    },
    {
      "cell_type": "code",
      "metadata": {
        "id": "Rjz1sLEZJade",
        "colab_type": "code",
        "colab": {}
      },
      "source": [
        "is_soda = True\n",
        "have_money = False\n",
        "is_thirsty = False\n",
        "\n",
        "if is_soda and have_money and is_thirsty:\n",
        "    print(\"I will purchase this refreshment\")\n",
        "else:\n",
        "    print(\"I will not purchase this refreshment\")\n",
        "    if is_soda == False:\n",
        "        print(\"Soda is not available\")\n",
        "\n",
        "    if have_money == False:\n",
        "        print(\"I do not have money\")\n",
        "\n",
        "    if is_thirsty == False:\n",
        "        print(\"I am not thirsty\")"
      ],
      "execution_count": null,
      "outputs": []
    },
    {
      "cell_type": "markdown",
      "metadata": {
        "id": "aQaoR5opJbe0",
        "colab_type": "text"
      },
      "source": [
        "We can also use the and logical operator for comparisons.\n",
        "\n",
        "Recall the following code from the previous lesson:\n",
        "\n",
        "\n",
        "\n",
        "```\n",
        "num = int(input(\"Please enter an integer value\"))\n",
        "\n",
        "if num > 0:\n",
        "    if num < 20:\n",
        "        print(\"The number is positive and less than 20\")\n",
        "    else:\n",
        "print(\"The number is positive\")\n",
        "else:\n",
        "    print(\"The number is not positive\")\n",
        "```\n",
        "\n",
        "\n",
        "As mentioned in the previous lesson, this is known as nested conditional statements (an if statement inside an if or else statement)\n",
        "\n",
        "We can also rewrite this by merging the outer if statement with the inner if and else statements.\n",
        "\n",
        "If we have nested if statements, we will need to use the keyword and to make sure both conditions are satisfied. As for the else statement inside the if statement, we will change that to the keyword, elif (else if) and reuse the condition of the outer if statement.\n",
        "\n",
        "\n",
        "\n",
        "```\n",
        "num = int(input(\"Please enter an integer value\"))\n",
        "\n",
        "if num > 0 and num < 20:\n",
        "    print(\"The number is positive and less than 20\")\n",
        "\n",
        "elif num > 0:\n",
        "    print(\"The number is positive\")\n",
        "\n",
        "else:\n",
        "    print(\"The number is not positive\")##\n",
        "```\n",
        "\n",
        "\n",
        "The keyword and means that BOTH conditions must be satisfied. The number, num, must be greater than 0 AND less than 20."
      ]
    },
    {
      "cell_type": "markdown",
      "metadata": {
        "id": "LudDLNPJJlkQ",
        "colab_type": "text"
      },
      "source": [
        "##2.3.2 Or operator\n",
        "\n",
        "There are also times when you may want the program to run code inside an if statement, as long as one of many conditions is met.\n",
        "\n",
        "For instance, in a real-life situation, you may want to visit a doctor if you have symptoms indicating some sickness.\n",
        "\n",
        "Let’s assume that the only symptom you have is a fever. The program will be written as such:"
      ]
    },
    {
      "cell_type": "code",
      "metadata": {
        "id": "f5tB7trAJrED",
        "colab_type": "code",
        "colab": {}
      },
      "source": [
        "fever = True\n",
        "cough = False\n",
        "\n",
        "if (fever or cough):\n",
        "    print(\"I will see a doctor\")"
      ],
      "execution_count": null,
      "outputs": []
    },
    {
      "cell_type": "markdown",
      "metadata": {
        "id": "s9zkS_o7J4DO",
        "colab_type": "text"
      },
      "source": [
        "Notice that only one of the two conditions was needed to allow the print statement to run.\n",
        "\n",
        "Like with the and operator, you can chain the or operator:\n",
        "\n"
      ]
    },
    {
      "cell_type": "code",
      "metadata": {
        "id": "Wtf7AhvgJ8Ux",
        "colab_type": "code",
        "colab": {}
      },
      "source": [
        "fever = True\n",
        "cough = False\n",
        "fatigue = False\n",
        "\n",
        "if (fever or cough or fatigue):\n",
        "    print(\"I will see a doctor\")"
      ],
      "execution_count": null,
      "outputs": []
    },
    {
      "cell_type": "markdown",
      "metadata": {
        "id": "ofl06FQDJ-zC",
        "colab_type": "text"
      },
      "source": [
        "The or operator also works with non-bool type conditions:"
      ]
    },
    {
      "cell_type": "code",
      "metadata": {
        "id": "6ogqo3QjJ_rt",
        "colab_type": "code",
        "colab": {}
      },
      "source": [
        "if (1 or 0 or 1):\n",
        "    print(\"There is at least one 1 (True) in the condition\")"
      ],
      "execution_count": null,
      "outputs": []
    },
    {
      "cell_type": "markdown",
      "metadata": {
        "id": "XCY0QT00KFQI",
        "colab_type": "text"
      },
      "source": [
        "##2.3.3 Not operator\n",
        "\n",
        "You can also use the keyword not to indicate that you want the opposite or negation of a bool value. This is useful when you know a condition will be False, but still want to have the code run when the condition is False.\n",
        "\n",
        "To do this, we use the not keyword before the condition so that it becomes not False, which is the equivalent of True. Since the condition becomes True, the code inside the if statement will run.\n",
        "\n",
        "If we expect the condition to be True, then placing the not keyword before the condition will render it not True, which is False, and the code inside the if statement will not run.\n",
        "\n",
        "The not operator has the same effect as the != operator but the syntax is a little different. You can see how to use != and not.\n",
        "\n",
        "For example:"
      ]
    },
    {
      "cell_type": "code",
      "metadata": {
        "id": "sabH6iWFKV0j",
        "colab_type": "code",
        "colab": {}
      },
      "source": [
        "# using !=\n",
        "\n",
        "password = input(\"What's the password\")\n",
        "\n",
        "if password != \"8734\":\n",
        "    print(\"Sorry, that's the wrong password\")"
      ],
      "execution_count": null,
      "outputs": []
    },
    {
      "cell_type": "markdown",
      "metadata": {
        "id": "ZV5c8qR7KZ_s",
        "colab_type": "text"
      },
      "source": [
        "In the first case, the condition password != “8734” will return True, allowing the print statement inside the if statement to run."
      ]
    },
    {
      "cell_type": "code",
      "metadata": {
        "id": "p8IOPEW9Ka2e",
        "colab_type": "code",
        "colab": {}
      },
      "source": [
        "# using not\n",
        "\n",
        "password = input(\"What's the password\")\n",
        "\n",
        "if not password == \"8734\":\n",
        "    print(\"Sorry, that's the wrong password\")"
      ],
      "execution_count": null,
      "outputs": []
    },
    {
      "cell_type": "markdown",
      "metadata": {
        "id": "eI_4R_-LKdBf",
        "colab_type": "text"
      },
      "source": [
        "In the second case, the condition password == “8734” will return False, but because of the keyword, not, the bool is negated and flipped to True. Since the condition is now True, the print statement inside the if statement will run.\n",
        "\n",
        "Also recall from the previous lesson that if a condition is False and we are not using a comparison operator, which has an opposite/ negative operator, we had to use the equality operator to compare it to False or inequality operator to compare it to True.\n",
        "\n",
        "For example:\n",
        "\n",
        "\n",
        "```\n",
        "the_bool = False\n",
        "\n",
        "if the_bool == False:\n",
        "    print(\"the_bool is false\")\n",
        "\n",
        "if the bool != True:\n",
        "    print(\"the_bool is false (not true)\")\n",
        "```\n",
        "\n",
        "\n",
        "However, we can simply use the not logical operator to avoid the comparison. Running the following program should produce the same output:"
      ]
    },
    {
      "cell_type": "code",
      "metadata": {
        "id": "861NOEAjKkzt",
        "colab_type": "code",
        "colab": {}
      },
      "source": [
        "the_bool = False\n",
        "\n",
        "if not the_bool:\n",
        "    print(\"the_bool is false but not the_bool is not False (True)\")"
      ],
      "execution_count": null,
      "outputs": []
    },
    {
      "cell_type": "markdown",
      "metadata": {
        "id": "jTXmULnXKpxu",
        "colab_type": "text"
      },
      "source": [
        "The not operator also works when using an int, float, or str, which is converted to a bool for the condition:"
      ]
    },
    {
      "cell_type": "code",
      "metadata": {
        "id": "44B_iyfaKqjH",
        "colab_type": "code",
        "colab": {}
      },
      "source": [
        "if 1:\n",
        "    print(\"1 is True\")\n",
        "\n",
        "if not 0:\n",
        "    print(\"not 0 is True\")"
      ],
      "execution_count": null,
      "outputs": []
    },
    {
      "cell_type": "markdown",
      "metadata": {
        "id": "n6iQPyRfKudG",
        "colab_type": "text"
      },
      "source": [
        "The not operator will also apply for the NoneType, None.\n",
        "\n",
        "Since None is converted to False in the condition, not None will negate it and make it True."
      ]
    },
    {
      "cell_type": "code",
      "metadata": {
        "id": "PbuDCCjIKxnI",
        "colab_type": "code",
        "colab": {}
      },
      "source": [
        "x = None\n",
        "\n",
        "if not x:\n",
        "    print(\"not None is True\")"
      ],
      "execution_count": null,
      "outputs": []
    },
    {
      "cell_type": "markdown",
      "metadata": {
        "id": "4ej7UrvQLAuY",
        "colab_type": "text"
      },
      "source": [
        " # 3.1 STRINGS AND METHODS "
      ]
    },
    {
      "cell_type": "markdown",
      "metadata": {
        "id": "-aDsjsz8LOjX",
        "colab_type": "text"
      },
      "source": [
        "In this lesson, we will talk about various str methods. A method is a function that belongs to an object. Here we see two new terms: function and object.\n",
        "\n",
        "**A function in computer science is a group of statements that performs a specific task. A method is a specific function that is associated with an object and is owned by it. But what is an object? An object is an instance of a data type.**\n",
        "\n",
        "For example:\n",
        "\n",
        "\n",
        "\n",
        "```\n",
        "When we assign an int 7, to a variable, an_int, we have created an int object with the value 7. \n",
        "When we assign a float, 5.57, to a variable, a_float, we have created a float object with the value 5.57. \n",
        "When we assign a bool, True, to a variable, a_bool, we have created a bool object with the value True. \n",
        "```\n",
        "\n",
        "Likewise, when we assign a str, “Hello World” to a variable, a_string, we have created a str object with the value “Hello World.” We will learn more about objects and functions later on.\n",
        "\n",
        "However, what makes a str different from the other data types that we’ve covered so far in the course? The answer is that a str is a collection. A collection is a group of smaller objects. A str (string) object is a collection of single character strings.\n",
        "\n",
        "For example, the str, “Hello World!” is a **collection** of the following individual strings:\n",
        "\n",
        "\n",
        "```\n",
        "“H” + “e” + “l” + “l” + “o” + “ “ + “W” + “o” + “r” + “l” + “d” + “!” \n",
        "```\n",
        "\n",
        "\n",
        "We will discuss further in detail in the following lessons in this chapter on what entails a collection and the features it has. We will also examine a new collection in the upcoming lessons and various others in the next chapter.\n",
        "\n",
        "First, let’s talk about methods. The str object has many methods that can be useful when programming. These methods are sets of tasks that are performed by the object that can provide us information about an object.\n",
        "\n",
        "We will examine the various methods of the str object in this chapter. Methods may either change the object or return some value.\n",
        "\n",
        "Below are some methods of the str class that may be useful as you continue to program in Python:\n",
        "\n",
        "Let’s start with a few useful methods that are used for strings containing only characters.\n",
        "\n",
        "To call a method for an object, simply type the variable name associated with the object, followed by a dot, and then the method name with parentheses included ( )."
      ]
    },
    {
      "cell_type": "markdown",
      "metadata": {
        "id": "vk3fYjvlL229",
        "colab_type": "text"
      },
      "source": [
        "##3.1.1 capitalize( ) method \n",
        "Calling capitalize creates a new str with the first character of the str as an uppercase. If the first character is already in uppercase or is not a letter, the new str created will be the same as the original str.\n"
      ]
    },
    {
      "cell_type": "code",
      "metadata": {
        "id": "qW2M-b-RMJWm",
        "colab_type": "code",
        "colab": {}
      },
      "source": [
        "string = \"python CODING 123!\"\n",
        "print(string)\n",
        "new_string = string.capitalize()\n",
        "print(new_string)"
      ],
      "execution_count": null,
      "outputs": []
    },
    {
      "cell_type": "markdown",
      "metadata": {
        "id": "BMU71_VqMJmK",
        "colab_type": "text"
      },
      "source": [
        ""
      ]
    },
    {
      "cell_type": "code",
      "metadata": {
        "id": "P7MyT92LMORL",
        "colab_type": "code",
        "colab": {}
      },
      "source": [
        "string = \"python CODING 123!\"\n",
        "print(string)\n",
        "new_string = string.lower()\n",
        "print(new_string)"
      ],
      "execution_count": null,
      "outputs": []
    },
    {
      "cell_type": "markdown",
      "metadata": {
        "id": "P4G8BqH0MO3A",
        "colab_type": "text"
      },
      "source": [
        "##3.1.2 lower( ) method\n",
        "Calling lower creates a new str with the all letter characters in lower cases. If there are no upper case characters, the new str created will be the same as the original str."
      ]
    },
    {
      "cell_type": "code",
      "metadata": {
        "id": "NSj-ux-OMQGo",
        "colab_type": "code",
        "colab": {}
      },
      "source": [
        "string = \"python CODING 123!\"\n",
        "print(string)\n",
        "new_string = string.lower()\n",
        "print(new_string)"
      ],
      "execution_count": null,
      "outputs": []
    },
    {
      "cell_type": "markdown",
      "metadata": {
        "id": "hkCNvr70MTxR",
        "colab_type": "text"
      },
      "source": [
        "##3.1.3 upper( ) method\n",
        "Calling upper creates a new str with the all letter characters in upper cases. If there are no lower case characters, the new str created will be the same as the original str."
      ]
    },
    {
      "cell_type": "code",
      "metadata": {
        "id": "ROxoazwVNfcV",
        "colab_type": "code",
        "colab": {}
      },
      "source": [
        "string = \"python CODING 123!\"\n",
        "print(string)\n",
        "new_string = string.upper()\n",
        "print(new_string)"
      ],
      "execution_count": null,
      "outputs": []
    },
    {
      "cell_type": "markdown",
      "metadata": {
        "id": "otOzM5hZMgeY",
        "colab_type": "text"
      },
      "source": [
        "##3.1.4 isdigit( ) method\n",
        "Calling isdigit checks if the str value is only composed of digits."
      ]
    },
    {
      "cell_type": "code",
      "metadata": {
        "id": "2-BRm0O2MUIK",
        "colab_type": "code",
        "colab": {}
      },
      "source": [
        "only_digits = \"12512\"\n",
        "print(only_digits.isdigit())    # returns True\n",
        "\n",
        "has_digits = \"12mn3\"\n",
        "print(has_digits.isdigit())     # returns False\n",
        "\n",
        "no_digits = \"mnop\"\n",
        "print(no_digits.isdigit())      # returns False"
      ],
      "execution_count": null,
      "outputs": []
    },
    {
      "cell_type": "markdown",
      "metadata": {
        "id": "57Ps_-6lMhU4",
        "colab_type": "text"
      },
      "source": [
        "##3.1.5 isalpha( ) method\n",
        "Calling isalpha checks if the str value is only composed of only letters from the alphabet."
      ]
    },
    {
      "cell_type": "code",
      "metadata": {
        "id": "EL-NU3zDMgBJ",
        "colab_type": "code",
        "colab": {}
      },
      "source": [
        "only_letters = \"abcdef\"\n",
        "print(only_letters.isalpha())    # True\n",
        "\n",
        "has_letters = \"12mn3\"\n",
        "print(has_letters.isalpha())     # False\n",
        "\n",
        "no_letters = \"1245@\"\n",
        "print(no_letters.isalpha())      # False"
      ],
      "execution_count": null,
      "outputs": []
    },
    {
      "cell_type": "markdown",
      "metadata": {
        "id": "uQKNQvbQMn8e",
        "colab_type": "text"
      },
      "source": [
        "##3.1.6 isspace( ) method\n",
        "Calling isspace checks if the str value is only composed of white spaces."
      ]
    },
    {
      "cell_type": "code",
      "metadata": {
        "id": "WaEVN9IqMfDK",
        "colab_type": "code",
        "colab": {}
      },
      "source": [
        "only_spaces = \"    \"\n",
        "print(only_spaces.isspace())    # True\n",
        "\n",
        "has_spaces = \"12  3\"\n",
        "print(has_spaces.isspace())     # False\n",
        "\n",
        "no_spaces = \"mnop\"\n",
        "print(no_spaces.isspace())      # False"
      ],
      "execution_count": null,
      "outputs": []
    },
    {
      "cell_type": "markdown",
      "metadata": {
        "id": "ejwouir_Nl3-",
        "colab_type": "text"
      },
      "source": [
        "##3.1.7 isalnum( ) method\n",
        "Calling isalnum checks if the str value is only composed of digits and/or letters."
      ]
    },
    {
      "cell_type": "code",
      "metadata": {
        "id": "b0ll_3AEMnk4",
        "colab_type": "code",
        "colab": {}
      },
      "source": [
        "only_digits = \"12512\"\n",
        "print(only_digits.isalnum())           # True\n",
        "\n",
        "only_letters = \"abcdef\"\n",
        "print(only_letters.isalnum())          # True\n",
        "\n",
        "has_digits = \"1245@\"\n",
        "print(has_digits.isalnum())            # False\n",
        "\n",
        "has_letters = \"mnop\"\n",
        "print(has_letters.isalnum())           # True\n",
        "\n",
        "has_digits_letters = \"12mn3\"\n",
        "print(has_digits_letters.isalnum())    # True\n",
        "\n",
        "no_digits_letters = \"@ @ @ !\"\n",
        "print(no_digits_letters.isalnum())     # False"
      ],
      "execution_count": null,
      "outputs": []
    },
    {
      "cell_type": "markdown",
      "metadata": {
        "id": "dd4MeQTVZRBZ",
        "colab_type": "text"
      },
      "source": [
        "These methods can be used in comparisons since they return a bool."
      ]
    },
    {
      "cell_type": "markdown",
      "metadata": {
        "id": "g52IZ651ZboF",
        "colab_type": "text"
      },
      "source": [
        "##3.1.8 find() and replace() method\n",
        "\n",
        "**Find Method**\n",
        "\n",
        "It determines if string str occurs in string, or in a substring of string if starting index beg and ending index end are given.\n",
        "\n",
        "Syntax\n",
        "\n",
        "\n",
        "```\n",
        "str.find(str, beg=0, end=len(string))\n",
        "```\n",
        "\n",
        "\n",
        "\n",
        "Parameters\n",
        "\n",
        "\n",
        "```\n",
        "str − This specifies the string to be searched.\n",
        "\n",
        "beg − This is the starting index, by default its 0.\n",
        "\n",
        "end − This is the ending index, by default its equal to the length of the string.\n",
        "```\n",
        "\n",
        "Return Value\n",
        "\n",
        "\n",
        "```\n",
        "Index if found and -1 otherwise.\n",
        "```\n"
      ]
    },
    {
      "cell_type": "code",
      "metadata": {
        "id": "dI5YW61AZz9Y",
        "colab_type": "code",
        "colab": {}
      },
      "source": [
        "str1 = \"this is string example....wow!!!\";\n",
        "str2 = \"exam\";\n",
        "\n",
        "print (str1.find(str2))\n",
        "print (str1.find(str2, 10))\n",
        "print (str1.find(str2, 40))"
      ],
      "execution_count": null,
      "outputs": []
    },
    {
      "cell_type": "markdown",
      "metadata": {
        "id": "ghyd7X69aVD2",
        "colab_type": "text"
      },
      "source": [
        "**Note**: The method rfind() returns the last index where the substring str is found, or -1 if no such index exists, optionally restricting the search to string[beg:end].\n",
        "\n",
        "Syntax\n",
        "Following is the syntax for rfind() method −\n",
        "\n",
        "\n",
        "```\n",
        "str.rfind(str, beg=0 end=len(string))\n",
        "```\n",
        "\n",
        "\n",
        "Parameters\n",
        "\n",
        "\n",
        "```\n",
        "str − This specifies the string to be searched.\n",
        "\n",
        "beg − This is the starting index, by default its 0.\n",
        "\n",
        "end − This is the ending index, by default its equal to the length of the string.\n",
        "\n",
        "```\n",
        "\n",
        "\n",
        "Return Value\n",
        "\n",
        "\n",
        "```\n",
        "This method returns last index if found and -1 otherwise.\n",
        "```"
      ]
    },
    {
      "cell_type": "markdown",
      "metadata": {
        "id": "HfaaAZM2bWLm",
        "colab_type": "text"
      },
      "source": [
        "\n",
        "**Replace Method**\n",
        "\n",
        "The method replace() returns a copy of the string in which the occurrences of old have been replaced with new, optionally restricting the number of replacements to max.\n",
        "\n",
        "Syntax - Following is the syntax for replace() method −\n",
        "\n",
        "\n",
        "```\n",
        "str.replace(old, new[, max])\n",
        "```\n",
        "\n",
        "\n",
        "\n",
        "Parameters\n",
        "\n",
        "\n",
        "```\n",
        "old − This is old substring to be replaced.\n",
        "\n",
        "new − This is new substring, which would replace old substring.\n",
        "\n",
        "max − If this optional argument max is given, only the first count occurrences are replaced.\n",
        "```\n",
        "\n",
        "\n",
        "\n",
        "Return Value\n",
        "\n",
        "\n",
        "```\n",
        "This method returns a copy of the string with all occurrences of substring old replaced by new. If the optional argument max is given, only the first count occurrences are replaced.\n",
        "```\n",
        "\n"
      ]
    },
    {
      "cell_type": "code",
      "metadata": {
        "id": "Co0z4GZfb9Ju",
        "colab_type": "code",
        "colab": {}
      },
      "source": [
        "str = \"this is string example....wow!!! this is really string\"\n",
        "print (str.replace(\"is\", \"was\"))\n",
        "print (str.replace(\"is\", \"was\", 3))"
      ],
      "execution_count": null,
      "outputs": []
    },
    {
      "cell_type": "markdown",
      "metadata": {
        "id": "U5LC81dpch1C",
        "colab_type": "text"
      },
      "source": [
        "##3.1.9  List of useful str Methods\n",
        "\n",
        "```\n",
        "Sr.No.\tMethods with Description\n",
        "1\tcapitalize()\n",
        "Capitalizes first letter of string\n",
        "\n",
        "2\tcenter(width, fillchar)\n",
        "Returns a space-padded string with the original string centered to a total of width columns.\n",
        "\n",
        "3\tcount(str, beg= 0,end=len(string))\n",
        "Counts how many times str occurs in string or in a substring of string if starting index beg and ending index end are given.\n",
        "\n",
        "4\tdecode(encoding='UTF-8',errors='strict')\n",
        "Decodes the string using the codec registered for encoding. encoding defaults to the default string encoding.\n",
        "\n",
        "5\tencode(encoding='UTF-8',errors='strict')\n",
        "Returns encoded string version of string; on error, default is to raise a ValueError unless errors is given with 'ignore' or 'replace'.\n",
        "\n",
        "6\tendswith(suffix, beg=0, end=len(string))\n",
        "Determines if string or a substring of string (if starting index beg and ending index end are given) ends with suffix; returns true if so and false otherwise.\n",
        "\n",
        "7\texpandtabs(tabsize=8)\n",
        "Expands tabs in string to multiple spaces; defaults to 8 spaces per tab if tabsize not provided.\n",
        "\n",
        "8\tfind(str, beg=0 end=len(string))\n",
        "Determine if str occurs in string or in a substring of string if starting index beg and ending index end are given returns index if found and -1 otherwise.\n",
        "\n",
        "9\tindex(str, beg=0, end=len(string))\n",
        "Same as find(), but raises an exception if str not found.\n",
        "\n",
        "10\tisalnum()\n",
        "Returns true if string has at least 1 character and all characters are alphanumeric and false otherwise.\n",
        "\n",
        "11\tisalpha()\n",
        "Returns true if string has at least 1 character and all characters are alphabetic and false otherwise.\n",
        "\n",
        "12\tisdigit()\n",
        "Returns true if string contains only digits and false otherwise.\n",
        "\n",
        "13\tislower()\n",
        "Returns true if string has at least 1 cased character and all cased characters are in lowercase and false otherwise.\n",
        "\n",
        "14\tisnumeric()\n",
        "Returns true if a unicode string contains only numeric characters and false otherwise.\n",
        "\n",
        "15\tisspace()\n",
        "Returns true if string contains only whitespace characters and false otherwise.\n",
        "\n",
        "16\tistitle()\n",
        "Returns true if string is properly \"titlecased\" and false otherwise.\n",
        "\n",
        "17\tisupper()\n",
        "Returns true if string has at least one cased character and all cased characters are in uppercase and false otherwise.\n",
        "\n",
        "18\tjoin(seq)\n",
        "Merges (concatenates) the string representations of elements in sequence seq into a string, with separator string.\n",
        "\n",
        "19\tlen(string)\n",
        "Returns the length of the string\n",
        "\n",
        "20\tljust(width[, fillchar])\n",
        "Returns a space-padded string with the original string left-justified to a total of width columns.\n",
        "\n",
        "21\tlower()\n",
        "Converts all uppercase letters in string to lowercase.\n",
        "\n",
        "22\tlstrip()\n",
        "Removes all leading whitespace in string.\n",
        "\n",
        "23\tmaketrans()\n",
        "Returns a translation table to be used in translate function.\n",
        "\n",
        "24\tmax(str)\n",
        "Returns the max alphabetical character from the string str.\n",
        "\n",
        "25\tmin(str)\n",
        "Returns the min alphabetical character from the string str.\n",
        "\n",
        "26\treplace(old, new [, max])\n",
        "Replaces all occurrences of old in string with new or at most max occurrences if max given.\n",
        "\n",
        "27\trfind(str, beg=0,end=len(string))\n",
        "Same as find(), but search backwards in string.\n",
        "\n",
        "28\trindex( str, beg=0, end=len(string))\n",
        "Same as index(), but search backwards in string.\n",
        "\n",
        "29\trjust(width,[, fillchar])\n",
        "Returns a space-padded string with the original string right-justified to a total of width columns.\n",
        "\n",
        "30\trstrip()\n",
        "Removes all trailing whitespace of string.\n",
        "\n",
        "31\tsplit(str=\"\", num=string.count(str))\n",
        "Splits string according to delimiter str (space if not provided) and returns list of substrings; split into at most num substrings if given.\n",
        "\n",
        "32\tsplitlines( num=string.count('\\n'))\n",
        "Splits string at all (or num) NEWLINEs and returns a list of each line with NEWLINEs removed.\n",
        "\n",
        "33\tstartswith(str, beg=0,end=len(string))\n",
        "Determines if string or a substring of string (if starting index beg and ending index end are given) starts with substring str; returns true if so and false otherwise.\n",
        "\n",
        "34\tstrip([chars])\n",
        "Performs both lstrip() and rstrip() on string.\n",
        "\n",
        "35\tswapcase()\n",
        "Inverts case for all letters in string.\n",
        "\n",
        "36\ttitle()\n",
        "Returns \"titlecased\" version of string, that is, all words begin with uppercase and the rest are lowercase.\n",
        "\n",
        "37\ttranslate(table, deletechars=\"\")\n",
        "Translates string according to translation table str(256 chars), removing those in the del string.\n",
        "\n",
        "38\tupper()\n",
        "Converts lowercase letters in string to uppercase.\n",
        "\n",
        "39\tzfill (width)\n",
        "Returns original string leftpadded with zeros to a total of width characters; intended for numbers, zfill() retains any sign given (less one zero).\n",
        "\n",
        "40\tisdecimal()\n",
        "Returns true if a unicode string contains only decimal characters and false otherwise.\n",
        "```\n",
        "\n"
      ]
    },
    {
      "cell_type": "markdown",
      "metadata": {
        "id": "R9RFXDHpEcfj",
        "colab_type": "text"
      },
      "source": [
        "## 3.1.10 Practice "
      ]
    },
    {
      "cell_type": "code",
      "metadata": {
        "id": "GqchDs7wYCyV",
        "colab_type": "code",
        "colab": {
          "base_uri": "https://localhost:8080/",
          "height": 204
        },
        "outputId": "26af6468-01bc-4b1f-aaa8-70c5c67fe6ca"
      },
      "source": [
        "var1 = 'Hello World!'\n",
        "var2 = \"Python Programming\"\n",
        "\n",
        "print (\"var1[0]: \", var1[0])\n",
        "print (\"var2[1:5]: \", var2[1:5])\n",
        "\n",
        "print (\"Updated String :- \", var1[:6] + 'Python')\n",
        "\n",
        "para_str = \"\"\"this is a long string that is made up of\n",
        "several lines and non-printable characters such as\n",
        "TAB ( \\t ) and they will show up that way when displayed.\n",
        "NEWLINEs within the string, whether explicitly given like\n",
        "this within the brackets [ \\n ], or just a NEWLINE within\n",
        "the variable assignment will also show up.\n",
        "\"\"\"\n",
        "print (para_str)"
      ],
      "execution_count": null,
      "outputs": [
        {
          "output_type": "stream",
          "text": [
            "var1[0]:  H\n",
            "var2[1:5]:  ytho\n",
            "Updated String :-  Hello Python\n",
            "this is a long string that is made up of\n",
            "several lines and non-printable characters such as\n",
            "TAB ( \t ) and they will show up that way when displayed.\n",
            "NEWLINEs within the string, whether explicitly given like\n",
            "this within the brackets [ \n",
            " ], or just a NEWLINE within\n",
            "the variable assignment will also show up.\n",
            "\n"
          ],
          "name": "stdout"
        }
      ]
    },
    {
      "cell_type": "markdown",
      "metadata": {
        "id": "TuOQDGSvMvMI",
        "colab_type": "text"
      },
      "source": [
        "##3.1.11 More Practice"
      ]
    },
    {
      "cell_type": "code",
      "metadata": {
        "id": "QyUjMwb4N3nO",
        "colab_type": "code",
        "colab": {}
      },
      "source": [
        "input_string = raw_input(\"Please enter a string: \")\n",
        "\n",
        "if input_string.isspace():\n",
        "    print(\"only white spaces\")\n",
        "    \n",
        "elif input_string.isalpha():\n",
        "    print(\"only letters\")\n",
        "\n",
        "elif input_string.isdigit():\n",
        "    print(\"only digits\")\n",
        "\n",
        "elif input_string.isalnum():\n",
        "    print(\"digits and letters\")\n",
        "    \n",
        "else:\n",
        "    print(\"digits, letters, and/or symbols\")"
      ],
      "execution_count": null,
      "outputs": []
    },
    {
      "cell_type": "markdown",
      "metadata": {
        "id": "5HY67qnDN6pG",
        "colab_type": "text"
      },
      "source": [
        "#3.1.12 Note that str is an immutable\n",
        "\n",
        "Although the str is a collection, there are no methods that change the values. This is because the str is an immutable collection, meaning that it cannot be changed once created. Instead, we would have to create a new str object.\n",
        "\n",
        "This is also the case for addition and multiplication operations. When you perform the addition or multiplication operations on str objects, you are creating a new collection with the combined values of the original str object(s).\n",
        "\n",
        "If I have a str, “Py”, and I add a str “thon” to it, I am combining them into a single collection, “Python”. Creating a new collection by combining or merging of two or more collections is called concatenation.\n",
        "\n",
        "```\n",
        "“P” + “y” + “t” + “h” + “o” + “n”\n",
        "```\n",
        "\n",
        "\n",
        "If I perform multiplication on the str, “Py” instead and multiply it with 3, I am combining three instances of the string into a single collection.\n",
        "\n",
        "\n",
        "```\n",
        "“P” + “y” + “P” + “y” + “P” + “y”\n",
        "```"
      ]
    },
    {
      "cell_type": "markdown",
      "metadata": {
        "id": "utwAVjP7RGHR",
        "colab_type": "text"
      },
      "source": [
        "# 3.2 INDEXING AND SLICING "
      ]
    },
    {
      "cell_type": "markdown",
      "metadata": {
        "id": "uqTh36wrRI2A",
        "colab_type": "text"
      },
      "source": [
        "We have established that the str object is a type of collection. A str is a collection of characters that are also of the type str.\n",
        "\n",
        "Let’s talk about indexing first. When you want to access an item in a specific position of a collection, you want to do so by accessing it by index.\n",
        "\n",
        "When you look at the end of a textbook, you may find a page called Index that shows a list of specific vocabulary words and the page numbers that each one appears in.\n",
        "\n",
        "##3.2.1 Understand indexing\n",
        "\n",
        "Similarly, an index in computer science is the position of a value in a collection.\n",
        "\n",
        "The index is an int value, representing the 1st, 2nd, … to the nth item.\n",
        "\n",
        "To access the value by index in a collection, we simply write the variable name that points to a collection followed by [index], where index is an int value.\n",
        "\n",
        "Let’s try obtaining the first character of the string:"
      ]
    },
    {
      "cell_type": "code",
      "metadata": {
        "id": "yHLZVuCCRPxE",
        "colab_type": "code",
        "colab": {}
      },
      "source": [
        "string = \"Hello World\"\n",
        "first_char = string[1]\n",
        "print(first_char)"
      ],
      "execution_count": null,
      "outputs": []
    },
    {
      "cell_type": "markdown",
      "metadata": {
        "id": "XB7flQIdRUFh",
        "colab_type": "text"
      },
      "source": [
        "You were probably expecting the letter H because it is the first character in the string. However, that is not the case because Python, like most programming languages, uses zero-based indexing. That means indices, starting from left to right, will start from 0.\n",
        "\n",
        "Let’s obtain the first character of the string:"
      ]
    },
    {
      "cell_type": "code",
      "metadata": {
        "id": "9QB_KYBdRU_T",
        "colab_type": "code",
        "colab": {}
      },
      "source": [
        "string = \"Hello World\"\n",
        "first_char = string[0]\n",
        "print(first_char)"
      ],
      "execution_count": null,
      "outputs": []
    },
    {
      "cell_type": "markdown",
      "metadata": {
        "id": "px-OUKBXRXOR",
        "colab_type": "text"
      },
      "source": [
        "Now it works! Let’s try printing the last character, d. Remember that the indices start at 0.\n",
        "\n",
        "Let’s try it:"
      ]
    },
    {
      "cell_type": "code",
      "metadata": {
        "id": "V7_2MI2DRa6g",
        "colab_type": "code",
        "colab": {}
      },
      "source": [
        "string = \"Alphabet\"\n",
        "last_char = string[7]\n",
        "print(last_char)"
      ],
      "execution_count": null,
      "outputs": []
    },
    {
      "cell_type": "markdown",
      "metadata": {
        "id": "s0BJIWhSRfWf",
        "colab_type": "text"
      },
      "source": [
        "Notice that the index value for the position of the last value in a collection is one less than the length of the collection.\n",
        "\n",
        "In this case, the length of the str collection, “Alphabet”, is 8. We were able to access the last character by using the index value, 7.\n",
        "\n",
        "Recall that there a function exists to find the length of the collection, the len operator.\n",
        "\n",
        "Thus, given a collection, n, the range of indices that exist is 0 to len(n)-1.\n",
        "\n",
        "Let’s replace 7 with len(string)-1:"
      ]
    },
    {
      "cell_type": "code",
      "metadata": {
        "id": "tRltAPRNRhlG",
        "colab_type": "code",
        "colab": {}
      },
      "source": [
        "string = \"Alphabet\"\n",
        "last_char = string[len(string)-1]\n",
        "print(last_char)"
      ],
      "execution_count": null,
      "outputs": []
    },
    {
      "cell_type": "markdown",
      "metadata": {
        "id": "AEVnye52Rj7t",
        "colab_type": "text"
      },
      "source": [
        "The indices of the str collection is as shown below:\n",
        "\n",
        "```\n",
        "\"A\" \"l\" \"p\" \"h\" \"a\" \"b\" \"e\" \"t\"\n",
        " 0   1   2   3   4   5   6   7\n",
        "```\n",
        "\n",
        "What happens if we try to access a value by an index that is out of range?\n",
        "\n",
        "Let’s try it:"
      ]
    },
    {
      "cell_type": "code",
      "metadata": {
        "id": "xhyniT3nRn0J",
        "colab_type": "code",
        "colab": {}
      },
      "source": [
        "string = \"Alphabet\"\n",
        "last_char = string[8]\n",
        "print(last_char)"
      ],
      "execution_count": null,
      "outputs": []
    },
    {
      "cell_type": "markdown",
      "metadata": {
        "id": "JSidRWhVRsZo",
        "colab_type": "text"
      },
      "source": [
        "You probably expected some kind of ERROR to be raised. Because the range is from 0 to len(string) - 1, which is from 0 to 7, any number higher than 7 would result in an ERROR.\n",
        "\n",
        "In this case, it is an IndexError that is raised, indicating that the index is out of range.\n",
        "\n",
        "We can also use methods with indexing:\n",
        "\n",
        "string = \"Alphabet\"\n",
        "last_char = string[0]\n",
        "print(last_char.isalpha())\n",
        "Because a str is a collection of single character str objects, we can call methods with them.\n",
        "\n",
        "##3.2.2 Negative indexing\n",
        "What happens if we enter a negative value?\n",
        "\n",
        "Let’s try it with -1:"
      ]
    },
    {
      "cell_type": "code",
      "metadata": {
        "id": "f6lwWdpYR65T",
        "colab_type": "code",
        "colab": {}
      },
      "source": [
        "string = \"Alphabet\"\n",
        "last_char = string[-1]\n",
        "print(last_char)"
      ],
      "execution_count": null,
      "outputs": []
    },
    {
      "cell_type": "markdown",
      "metadata": {
        "id": "jWM_L1RBSCXF",
        "colab_type": "text"
      },
      "source": [
        "You probably expected an ERROR again but instead the program output t, which is the last character in the str collection.\n",
        "\n",
        "In Python, we can also access the last value using negative indexing. From left to right, the indices go from 0 to len(n) - 1. However, from right to left, we start with -1, then it decrements to -2, -3, and eventually, in the case of str, \"Alphabet\", -8.\n",
        "\n",
        "Because negative indexing from right to left start at -1 instead of 0 (0 and positive numbers are used from left to right), the negative range to consider for our str is from -1 to -8. Notice that 8 is the length of our str.\n",
        "\n",
        "Going from right to left uses the indices range -1 to -len(n).\n",
        "\n",
        "Let’s add the negative indices of the str collection is as shown below:\n",
        "\n",
        "\n",
        "```\n",
        "‘A’ ‘l’ ‘p’ ‘h’ ‘a’ ‘b’ ‘e’ ‘t’\n",
        " 0   1   2   3   4   5   6   7    Positive Indexing (0 to len(n)-1)\n",
        "-8  -7  -6  -5  -4  -3  -2  -1    Negative Indexing (-len(n) to -1)\n",
        "```\n",
        "\n",
        "\n",
        "Forward:\n",
        "\n",
        "```\n",
        "Positive Indexing: (0 to len(n)-1)\n",
        "Negative Indexing: (-len(n) to -1)\n",
        "```\n",
        "\n",
        "\n",
        "Backward:\n",
        "```\n",
        "Positive Indexing: (len(n)-1 to 0)\n",
        "Negative Indexing: (-1 to -len(n))\n",
        "```\n",
        "In general, to access the first element, use 0, and to access the last element, use -1.\n",
        "\n",
        "##3.2.3 Slicing\n",
        "Not only can we get a value of a str using its index, but we can also take a slice from the str collection. Slicing is a common way to create copy a portion of a collection.\n",
        "\n",
        "With slicing, a range of indices is considered. This range is a half opened range, meaning that it includes the start index, and not the end index.\n",
        "\n",
        "The syntax used for slicing is similar to that for indexing.\n",
        "\n",
        "For indexing we have, collection[index].\n",
        "\n",
        "For slicing, it is collection[start:end]. By default, start is 0, and end is len(collection).\n",
        "\n",
        "Let’s take a slice at this, starting at index 3:"
      ]
    },
    {
      "cell_type": "code",
      "metadata": {
        "id": "_w_jMfTrSdzW",
        "colab_type": "code",
        "colab": {}
      },
      "source": [
        "string = \"Alphabet\"\n",
        "slice_start3 = string[3:]\n",
        "print(slice_start3)"
      ],
      "execution_count": null,
      "outputs": []
    },
    {
      "cell_type": "markdown",
      "metadata": {
        "id": "9LzCwTY1Sekw",
        "colab_type": "text"
      },
      "source": [
        "Since we didn’t choose an end index, by default it is the length of the collection.\n",
        "\n",
        "Let’s take another slice, ending at index 3:"
      ]
    },
    {
      "cell_type": "code",
      "metadata": {
        "id": "REKju9nVSkT4",
        "colab_type": "code",
        "colab": {}
      },
      "source": [
        "string = \"Alphabet\"\n",
        "slice_end3 = string[:3]\n",
        "print(slice_end3)"
      ],
      "execution_count": null,
      "outputs": []
    },
    {
      "cell_type": "markdown",
      "metadata": {
        "id": "AVKbbr_4SlCZ",
        "colab_type": "text"
      },
      "source": [
        "This time, we didn’t choose a start index so by default, it is 0. Also notice that the value at index 3 is not included.\n",
        "\n",
        "Notice that the slice string[:3] + slice string[3:] will concatenate into the original string, thus making a copy.\n",
        "\n",
        "If we wanted to make a copy of the original string, we can simply take the entire slice, string[0:len(string)], which can be simplified to string[:] since by default, start is at index 0 and end is at its length.\n",
        "\n",
        "Let’s copy the string by taking a slice:\n",
        "\n"
      ]
    },
    {
      "cell_type": "code",
      "metadata": {
        "id": "2sYOon5zSqSJ",
        "colab_type": "code",
        "colab": {}
      },
      "source": [
        "string = \"Alphabet\"\n",
        "slice_copy = string[:3]\n",
        "print(slice_copy)"
      ],
      "execution_count": null,
      "outputs": []
    },
    {
      "cell_type": "markdown",
      "metadata": {
        "id": "FM3Jp6ReSst2",
        "colab_type": "text"
      },
      "source": [
        "Finally, let’s just slice with given start and end indices:"
      ]
    },
    {
      "cell_type": "code",
      "metadata": {
        "id": "Eki2BHkNStsY",
        "colab_type": "code",
        "colab": {}
      },
      "source": [
        "string = \"Alphabet\"\n",
        "slice2_to_6 = string[2:6]\n",
        "print(slice2_to_6)"
      ],
      "execution_count": null,
      "outputs": []
    },
    {
      "cell_type": "markdown",
      "metadata": {
        "id": "ZP1i9KoKSxtk",
        "colab_type": "text"
      },
      "source": [
        "What happens if we enter an invalid index? Will an IndexError be raised?\n",
        "\n",
        "Let’s try with an invalid start index:"
      ]
    },
    {
      "cell_type": "code",
      "metadata": {
        "id": "bXhDL4TBS0Fp",
        "colab_type": "code",
        "colab": {}
      },
      "source": [
        "string = \"Alphabet\"\n",
        "slice_start15 = string[15:]\n",
        "print(slice_start15)"
      ],
      "execution_count": null,
      "outputs": []
    },
    {
      "cell_type": "markdown",
      "metadata": {
        "id": "7leYlwsfS22_",
        "colab_type": "text"
      },
      "source": [
        "What happened? Nothing was raised?\n",
        "\n",
        "Let’s examine what happened:"
      ]
    },
    {
      "cell_type": "code",
      "metadata": {
        "id": "aICDKmyhS2Yw",
        "colab_type": "code",
        "colab": {}
      },
      "source": [
        "string = \"Alphabet\"\n",
        "slice_15 = string[15:]\n",
        "print(len(slice_15))\n",
        "print(type(slice_15))"
      ],
      "execution_count": null,
      "outputs": []
    },
    {
      "cell_type": "markdown",
      "metadata": {
        "id": "ps5M6K6vS57j",
        "colab_type": "text"
      },
      "source": [
        "Notice that the length of the slice is 0 and the type is a str. It appears that slice_15 is currently pointing to an empty str, ''.\n",
        "\n",
        "When taking a slice, a copy is made. But because the range of indices is invalid (15 to 9), an empty str is returned.\n",
        "\n",
        "Let’s try with an invalid end index:"
      ]
    },
    {
      "cell_type": "code",
      "metadata": {
        "id": "Ok2E92QLS9an",
        "colab_type": "code",
        "colab": {}
      },
      "source": [
        "string = \"Alphabet\"\n",
        "slice_end15 = string[:15]\n",
        "print(slice_end15)"
      ],
      "execution_count": null,
      "outputs": []
    },
    {
      "cell_type": "markdown",
      "metadata": {
        "id": "inEXLjsRS-F8",
        "colab_type": "text"
      },
      "source": [
        "This time, we took a slice from the range 0 (default) to 15. This resulted in an entire copy as if it were from 0 to 9. Because the range 0 to 9 is valid, every index after 9 will not be considered even if the end index is invalid.\n",
        "\n",
        "We can also slice using negative indices.\n",
        "\n",
        "Ending with -1:"
      ]
    },
    {
      "cell_type": "code",
      "metadata": {
        "id": "aMM1_BjDTCeu",
        "colab_type": "code",
        "colab": {}
      },
      "source": [
        "string = \"Alphabet\"\n",
        "slice_end_negative_1 = string[:-1]\n",
        "print(slice_end_negative_1)"
      ],
      "execution_count": null,
      "outputs": []
    },
    {
      "cell_type": "markdown",
      "metadata": {
        "id": "9WuuX9LQTDFJ",
        "colab_type": "text"
      },
      "source": [
        "Starting at -1:"
      ]
    },
    {
      "cell_type": "code",
      "metadata": {
        "id": "ciMJNcINTFvP",
        "colab_type": "code",
        "colab": {}
      },
      "source": [
        "string = \"Alphabet\"\n",
        "slice_start_negative_1 = string[-1:]\n",
        "print(slice_start_negative_1)"
      ],
      "execution_count": null,
      "outputs": []
    },
    {
      "cell_type": "markdown",
      "metadata": {
        "id": "c0aKoOt7TZd7",
        "colab_type": "text"
      },
      "source": [
        "#3.3 LISTS"
      ]
    },
    {
      "cell_type": "markdown",
      "metadata": {
        "id": "8rwuvwzGTlDk",
        "colab_type": "text"
      },
      "source": [
        "So far in the course, we’ve only explored one data type that is a collection, which is the str type. However, the str is only a collection of single str type characters. What if we want a collection of other data types such as int or float?\n",
        "\n",
        "Fortunately, such a data type exists. In Python, there is the list data type. A list is another collection (like str) however its internal structure is different.\n",
        "\n",
        "A list is Python’s built-in dynamic array, which is a contiguous block of memory that is reserved for storing multiple data types.\n",
        "\n",
        "In Python, a list is represented by brackets, [ ].\n",
        "\n",
        "Let us visit the grocery store once again. Instead of purchasing a refreshment, we will purchase actual grocery items this time. Sometimes, we may want to prepare a list of items we want to purchase ahead of time.\n",
        "\n",
        "First let’s create an empty list. Like a str, a list can be empty. There are two ways to create an empty list.\n",
        "\n",
        "The first way is to use the list constructor which is done like so:\n",
        "\n",
        "\n",
        "\n",
        "```\n",
        "lst = list()\n",
        "```\n",
        "\n",
        "\n",
        "The second way is to use list literals, meaning using the representative symbols:\n",
        "\n",
        "\n",
        "\n",
        "```\n",
        "lst = [ ]\n",
        "```\n",
        "\n",
        "\n",
        "We can also print our list objects:"
      ]
    },
    {
      "cell_type": "code",
      "metadata": {
        "id": "19uwlmkJTvFU",
        "colab_type": "code",
        "colab": {}
      },
      "source": [
        "lst1 = list()\n",
        "print(lst1)\n",
        "\n",
        "lst2 = [ ]\n",
        "print(lst2)"
      ],
      "execution_count": null,
      "outputs": []
    },
    {
      "cell_type": "markdown",
      "metadata": {
        "id": "NKisLYkuTxgy",
        "colab_type": "text"
      },
      "source": [
        "Notice that both outputs are the same. Since we haven’t added anything to the lists, the outputs are empty lists [ ].\n",
        "\n",
        "Either way to create the list is fine. However, it is more common to use the list literals to create a list. This is because Python automatically recognizes a list as a collection enclosed in brackets [ ], similarly to how it recognizes a str as a collection enclosed in quotations ‘’ or “” .\n",
        "\n",
        "However, if we use the constructor list(), python will have to look up what the constructor refers to. In short, using the literals will be faster than using the constructor.\n",
        "\n",
        "We can also use the len( ) operator for the list, just like for str, to find the size of our list."
      ]
    },
    {
      "cell_type": "code",
      "metadata": {
        "id": "TO1i90ZrT2t8",
        "colab_type": "code",
        "colab": {}
      },
      "source": [
        "lst2 = [ ]\n",
        "print(len(lst2))"
      ],
      "execution_count": null,
      "outputs": []
    },
    {
      "cell_type": "markdown",
      "metadata": {
        "id": "ygI1ufUBT16L",
        "colab_type": "text"
      },
      "source": [
        "Since our list is empty, we should expect the length (or logical size) of our list to be 0. There are 0 items in the collection.\n",
        "\n",
        "Now, back to the grocery store scenario. Let’s start by adding to our list object. Unlike str, a list is mutable, which means we can modify our list object without creating a new instance of it. First, let’s add objects to the grocery_list.\n",
        "\n",
        "##3.3.1 Appending\n",
        "To add an object to a list, we use the append method. The signature of the method is append(x), where x is any value.\n",
        "\n",
        "Let’s try it:"
      ]
    },
    {
      "cell_type": "code",
      "metadata": {
        "id": "Rf49B7yVT_zd",
        "colab_type": "code",
        "colab": {}
      },
      "source": [
        "grocery_list = [ ]\n",
        "grocery_list.append(\"milk\")\n",
        "grocery_list.append(\"eggs\")\n",
        "grocery_list.append(\"bread\")\n",
        "grocery_list.append(\"rice\")\n",
        "print(grocery_list)\n",
        "print(len(grocery_list))"
      ],
      "execution_count": null,
      "outputs": []
    },
    {
      "cell_type": "markdown",
      "metadata": {
        "id": "P0HXFtEnUH0P",
        "colab_type": "text"
      },
      "source": [
        "Notice that the ordering of the items inside our grocery_list are presented in the same order that we added them in. This is because the append method adds objects to the back of the list. Also, notice that the length of our grocery_list is 4 because we have added 4 items.\n",
        "\n",
        "An advantage of using the list literals is initializing our list of objects. To initialize a list with values, simply place them inside the list literals when creating the object.\n",
        "\n",
        "\n",
        "\n",
        "```\n",
        "grocery_list = [\"milk\", \"eggs\", \"bread\", \"rice\"]\n",
        "```\n",
        "\n",
        "\n",
        "Because Python is a dynamically typed language, we can also store objects of various data types in the dynamic array, list. Note that you cannot do this in statically typed languages. In a statically typed language, the dynamic array can only store one type of data.\n",
        "\n",
        "We may want to include our budget in the grocery_list so let’s do that by adding a float object to our grocery_list:"
      ]
    },
    {
      "cell_type": "code",
      "metadata": {
        "id": "cotFi8RvUQ1K",
        "colab_type": "code",
        "colab": {}
      },
      "source": [
        "grocery_list = [\"milk\", \"eggs\", \"bread\", \"rice\"]\n",
        "grocery_list.append(20.00)\n",
        "print(grocery_list)\n",
        "print(len(grocery_list))"
      ],
      "execution_count": null,
      "outputs": []
    },
    {
      "cell_type": "markdown",
      "metadata": {
        "id": "uGeQ21nBUTpV",
        "colab_type": "text"
      },
      "source": [
        "As a collection, the list object supports both indexing and slicing.\n",
        "\n",
        "##3.3.2 Indexing\n",
        "In the case of our grocery_list, the indices range from 0 to 4."
      ]
    },
    {
      "cell_type": "code",
      "metadata": {
        "id": "pmGJgxS0UX5_",
        "colab_type": "code",
        "colab": {}
      },
      "source": [
        "grocery_list = [\"milk\", \"eggs\", \"bread\", \"rice\", 20.00]\n",
        "print(grocery_list[0])\n",
        "print(grocery_list[1])\n",
        "print(grocery_list[2])\n",
        "print(grocery_list[3])\n",
        "print(grocery_list[4])"
      ],
      "execution_count": null,
      "outputs": []
    },
    {
      "cell_type": "markdown",
      "metadata": {
        "id": "qhPy--_KUYsb",
        "colab_type": "text"
      },
      "source": [
        "Accessing the value just for printing is called a getter, or access. We are only trying to get or access the value.\n",
        "\n",
        "If we try to access an index that does not contain an object, we will receive an error message, just as we did for the str collection.\n",
        "\n",
        "Let’s try it:"
      ]
    },
    {
      "cell_type": "code",
      "metadata": {
        "id": "QxPxQTcDUeLU",
        "colab_type": "code",
        "colab": {}
      },
      "source": [
        "grocery_list = [\"milk\", \"eggs\", \"bread\", \"rice\", 20.00]\n",
        "print(grocery_list[5])"
      ],
      "execution_count": null,
      "outputs": []
    },
    {
      "cell_type": "markdown",
      "metadata": {
        "id": "5T5opKzAUhoH",
        "colab_type": "text"
      },
      "source": [
        "Notice the error is an IndexError, meaning the index we are trying to access in our collection does not exist. There is nothing in the “5th” position of our collection.\n",
        "\n",
        "We can also access items from the list using a negative index, which python supports. Using a negative index, we can access items from the back of the list, starting at the index -1.\n",
        "\n",
        "Let’s do that:"
      ]
    },
    {
      "cell_type": "code",
      "metadata": {
        "id": "ottbvMbBUlIZ",
        "colab_type": "code",
        "colab": {}
      },
      "source": [
        "grocery_list = [\"milk\", \"eggs\", \"bread\", \"rice\", 20.00]\n",
        "print(grocery_list[-1])\n",
        "print(grocery_list[-2])\n",
        "print(grocery_list[-3])\n",
        "print(grocery_list[-4])\n",
        "print(grocery_list[-5])"
      ],
      "execution_count": null,
      "outputs": []
    },
    {
      "cell_type": "markdown",
      "metadata": {
        "id": "XZCZGCEUUmlK",
        "colab_type": "text"
      },
      "source": [
        "Because a list is mutable, we can change the values inside by accessing them using an index.\n",
        "\n",
        "Let’s change “milk” to “juice”. Because “milk” is in the 0th position, we will access it via index 0.\n",
        "\n",
        "Run the following program:"
      ]
    },
    {
      "cell_type": "code",
      "metadata": {
        "id": "SYWAas8pUqlS",
        "colab_type": "code",
        "colab": {}
      },
      "source": [
        "grocery_list = [\"milk\", \"eggs\", \"bread\", \"rice\", 20.00]\n",
        "print(grocery_list)\n",
        "grocery_list[0] = \"juice\"\n",
        "print(grocery_list)"
      ],
      "execution_count": null,
      "outputs": []
    },
    {
      "cell_type": "markdown",
      "metadata": {
        "id": "oJ55W4NnUrl6",
        "colab_type": "text"
      },
      "source": [
        "Accessing a value via index and changing it is called a setter. We are trying to set a value.\n",
        "\n",
        "##3.3.3 Slicing\n",
        "We can also take a slice of the list. Slicing takes a range of indices.The format for the slice is [ start : end ]. The value at the start position is included but the end is not considered. By default, the start is 0, and the end is the len(list).\n",
        "\n",
        "Let’s say we only want to split up the task and have someone else purchase the first two items on the grocery_list while you take care of the rest.\n",
        "\n",
        "Let’s do that:"
      ]
    },
    {
      "cell_type": "code",
      "metadata": {
        "id": "APzUeUujUvIe",
        "colab_type": "code",
        "colab": {}
      },
      "source": [
        "grocery_list = [\"milk\", \"eggs\", \"bread\", \"rice\"]\n",
        "your_list = grocery_list[:2]\n",
        "my_list = grocery_list[2:]\n",
        "\n",
        "print(your_list)\n",
        "print(my_list)"
      ],
      "execution_count": null,
      "outputs": []
    },
    {
      "cell_type": "markdown",
      "metadata": {
        "id": "v3ljYKCZUy9y",
        "colab_type": "text"
      },
      "source": [
        "If you wanted to make a slice of the entire list, we can use the default slice by not inputting any values:"
      ]
    },
    {
      "cell_type": "code",
      "metadata": {
        "id": "A70h2JF-UztU",
        "colab_type": "code",
        "colab": {}
      },
      "source": [
        "grocery_list = [\"milk\", \"eggs\", \"bread\", \"rice\"]\n",
        "my_slice = grocery_list[:]\n",
        "print(my_slice)"
      ],
      "execution_count": null,
      "outputs": []
    },
    {
      "cell_type": "markdown",
      "metadata": {
        "id": "XtbaTlZ8U4eQ",
        "colab_type": "text"
      },
      "source": [
        "What happens when we try to take a slice for the range of indices that does not exist?\n",
        "\n",
        "\n",
        "```\n",
        "grocery_list = [\"milk\", \"eggs\", \"bread\", \"rice\"]\n",
        "my_slice = grocery_list[5:15]\n",
        "```\n",
        "\n",
        "\n",
        "Unlike indexing, slicing will not raise an Error if we are out of range.\n",
        "\n",
        "What happens when the range (start to end) of the slice does not exist, the slicing will fail silently.\n",
        "\n",
        "If we take a slice with a start that is part of the indices range but the end isn’t, the slice will still occur, starting with the start value and ending at the last possible index.\n",
        "\n",
        "Why does the out of range slice result in an empty list? Well slicing is a form of copying. When a Python list is being copied, the program must first create an empty list, and then add the values. Because the range did not exist, no values were added. We will talk about more in detail about copying lists at the end of this chapter.\n",
        "\n"
      ]
    },
    {
      "cell_type": "markdown",
      "metadata": {
        "id": "gcZtKDSU373_",
        "colab_type": "text"
      },
      "source": [
        "# 4.0 ITERATION: FOR LOOP\n",
        "\n",
        "#Range collection\n",
        "One of the most common uses with the for loop is iterating through a range of integers.\n",
        "\n",
        "The range is a collection of all the int values given a start, stop, and steps. By default, the start is 0 and the steps incremented is 1. The stop value is not included.\n",
        "\n",
        "We will create the range collection using the range constructor which is as followed:\n",
        "\n",
        "range(start = 0, stop, steps = 1)\n",
        "To iterate through a range with a for loop, we start with the keyword for, followed by a variable, typically named i, the in keyword, and the range created using its constructor.\n",
        "\n",
        "Let’s try out the for loop and iterate through a range from 0 to 9 and print out all the values."
      ]
    },
    {
      "cell_type": "code",
      "metadata": {
        "id": "083R2JD-4t6e",
        "colab_type": "code",
        "colab": {}
      },
      "source": [
        "for i in range(0, 10, 1):\n",
        "    print(i)"
      ],
      "execution_count": null,
      "outputs": []
    },
    {
      "cell_type": "markdown",
      "metadata": {
        "id": "eLCOtJN84wVe",
        "colab_type": "text"
      },
      "source": [
        "Notice that 10 is not printed. That is because the stop is not included. So how does this work? What is the purpose of the variable i?\n",
        "\n",
        "What happens is, when we iterate through a collection, we have our variable, i, reference each value. So first i points to 0. Then during the next iteration, it will point to 1, then 2, and continues changing until it references the last value, which is 9. It does not point to 10 because 10 is not part of the range, and therefore not part of the collection.\n",
        "\n",
        "Since we know by default, start = 0, and steps = 1, we can simply just pass in a value for a stop.\n",
        "\n",
        "Let’s simplify the previous example:\n",
        "\n",
        "\n",
        "```\n",
        "for i in range(10):\n",
        "print(i)\n",
        "```\n",
        "\n",
        "\n",
        "Because a range is a collection, we can get a value at an index and take a slice copy. We can also use the len operator to find the length of the range.\n",
        "\n",
        "Let’s iterate through a slice of the range:"
      ]
    },
    {
      "cell_type": "code",
      "metadata": {
        "id": "lqQY0jq442rE",
        "colab_type": "code",
        "colab": {}
      },
      "source": [
        "for i in range(10)[:5]:\n",
        "    print(i)"
      ],
      "execution_count": null,
      "outputs": []
    },
    {
      "cell_type": "markdown",
      "metadata": {
        "id": "RkqRQ94M45N2",
        "colab_type": "text"
      },
      "source": [
        "Notice that the range we iterated through was sliced so that only the int values up to but not including 5 was considered. Of course, you may be wondering what’s the purpose of slicing a range. The answer is that there is no reason to do so when we could just loop through the range(5). The demonstration was simply to show that the range is a collection.\n",
        "\n",
        "##4.0.1 Length of the list\n",
        "\n",
        "Let’s also just use the len operator:"
      ]
    },
    {
      "cell_type": "code",
      "metadata": {
        "id": "om9yv9_a5ATQ",
        "colab_type": "code",
        "colab": {}
      },
      "source": [
        "print(len(range(10)))"
      ],
      "execution_count": null,
      "outputs": []
    },
    {
      "cell_type": "markdown",
      "metadata": {
        "id": "OKOJb-Z94-on",
        "colab_type": "text"
      },
      "source": [
        "Notice that we get 10 because the int values in the range are from 0 to 9.\n",
        "\n",
        "So how is the range collection useful? We can use the range to iterate through a list similar to how we did so using a while loop. We will treat the range as a range of indices. Since we know by default, the start is at 0, we simply need to pass in the end, which is the length of the list.\n",
        "\n",
        "The range of indices to consider when find a value at an index is from 0 to the len(collection) - 1. Since the stop is not included, range(len(collection)) will account from the int values from 0 to len(collection) -1.\n",
        "\n",
        "Let’s try it out:\n",
        "\n"
      ]
    },
    {
      "cell_type": "code",
      "metadata": {
        "id": "9xSJoUtE5Eot",
        "colab_type": "code",
        "colab": {}
      },
      "source": [
        "beverages = [\"water\", \"juice\", \"soda\", \"tea\", \"coffee\"]\n",
        "\n",
        "for i in range(len(beverages)):\n",
        "    print(beverages[i])"
      ],
      "execution_count": null,
      "outputs": []
    },
    {
      "cell_type": "markdown",
      "metadata": {
        "id": "_WljEE8j5JhR",
        "colab_type": "text"
      },
      "source": [
        "Let’s try using the range collection by changing the steps. Let’s make steps 2 so that the range of int values will be every 2 numbers (or every other number). We will set the range to be from 0 to 10 and have it print every other number starting with 0. We should expect 0, 2, 4, 8 to be printed.\n",
        "\n",
        "Run the following program:"
      ]
    },
    {
      "cell_type": "code",
      "metadata": {
        "id": "tQybW_yw5JA_",
        "colab_type": "code",
        "colab": {}
      },
      "source": [
        "for i in range(10, 2):\n",
        "    print(i)"
      ],
      "execution_count": null,
      "outputs": []
    },
    {
      "cell_type": "markdown",
      "metadata": {
        "id": "Owivkous5P3i",
        "colab_type": "text"
      },
      "source": [
        "Notice that nothing was printed. That is because the order goes like so: start, stop, end. Because we passed in more than one parameter, the first parameter becomes the start while the second becomes the stop. The remaining parameter, steps, becomes the default value 1.\n",
        "\n",
        "Thus, range(10, 2) is not every 2 numbers from 0 to 10 but instead, every number from 10 to 2, which is not a valid range.\n",
        "\n",
        "Let’s fix it by including a third parameter so we now have one for start, stop, and steps.\n",
        "\n",
        "Run the following program:"
      ]
    },
    {
      "cell_type": "code",
      "metadata": {
        "id": "S90bZFNv5YS6",
        "colab_type": "code",
        "colab": {}
      },
      "source": [
        "for i in range(0, 10, 2):\n",
        "    print(i)"
      ],
      "execution_count": null,
      "outputs": []
    },
    {
      "cell_type": "markdown",
      "metadata": {
        "id": "1YBEBDAn5ZIq",
        "colab_type": "text"
      },
      "source": [
        "That’s better!\n",
        "\n",
        "The range can also count backwards. Simply have the start a larger int value than the stop value and have the steps become -1 (or any valid negative number).\n",
        "\n",
        "For example:"
      ]
    },
    {
      "cell_type": "code",
      "metadata": {
        "id": "Ifwfoloh5e5d",
        "colab_type": "code",
        "colab": {}
      },
      "source": [
        "for i in range(5, 0, -1):\n",
        "    print(i)"
      ],
      "execution_count": null,
      "outputs": []
    },
    {
      "cell_type": "markdown",
      "metadata": {
        "id": "pQDcTu695eLw",
        "colab_type": "text"
      },
      "source": [
        "This program iterates through the range from 5 to 1, (0 is not included in the range). Starting with 5, the next number is 1 smaller than the previous until it stops at 0.\n",
        "\n",
        "To summarize, the range collection can be created using the range constructor as followed:\n",
        "\n",
        "\n",
        "\n",
        "```\n",
        "range(start = 0, stop, steps = 1), simplified to range(stop)\n",
        "\n",
        "range(start, stop, steps = 1), simplified to range(start, stop)\n",
        "\n",
        "range(start, stop, steps)\n",
        "```\n",
        "\n"
      ]
    },
    {
      "cell_type": "markdown",
      "metadata": {
        "id": "_wMSl4Y-5rGS",
        "colab_type": "text"
      },
      "source": [
        "Practice\n",
        "What will the following program output?\n",
        "\n",
        "\n",
        "\n",
        "```\n",
        "beverages = [\"water\", \"juice\", \"soda\", \"tea\", \"coffee\"]\n",
        "\n",
        "for i in range(-len(beverages), len(beverages)):\n",
        "    print(beverages[i])\n",
        "```\n",
        "\n",
        "\n",
        "Let’s analyze this program. We see that we are iterating through a range. Notice that only two values are passed in so the constructor used to create the range will be range(start, stop), which means that steps will be the default value of 1.\n",
        "\n",
        "We know that len(beverages) will result in the int value 5, because there are 5 items in the list. Therefore, the range is every number from -5 to 4 (remember that the stop, 5, is not included).\n",
        "\n",
        "The program also prints the values from the list based on the index. Recall that from left to right with positive indexing, is from 0 to len(beverages) - 1 and with negative indexing, is from -len(beverages) to -1.\n",
        "\n",
        "\n",
        "```\n",
        "\n",
        "[\"water\", \"juice\", \"soda\", \"tea\", \"coffee\"]\n",
        "    0        1        2      3        4\n",
        "   -5       -4       -3     -2       -1\n",
        "```\n",
        "\n",
        "\n",
        "Thus, if we run the program, we expect it to print the values from the indices -5 to 4. This results in the programming printing each value from the list twice. Once with negative index (-5 to -1) and again with positive index (0 to 4).\n",
        "\n",
        "Pretty cool right?\n",
        "\n",
        "\n",
        "##4.0.2 Iterable collection \n",
        "Now that we’ve discussed the range collection and iterating through it, let’s talk about iterating through a collection we’ve already seen before, namely str and list.\n",
        "\n",
        "Let’s iterate through a str. We can use the variable i again but it’s recommended to only use that when you will be using i for indexing. Let’s be more specific and name the variable char, short for character.\n",
        "\n",
        "Run the following program:"
      ]
    },
    {
      "cell_type": "code",
      "metadata": {
        "id": "lmGBKYN45l3z",
        "colab_type": "code",
        "colab": {}
      },
      "source": [
        "string = \"Alphabet\"\n",
        "for char in string:\n",
        "    print(char)"
      ],
      "execution_count": null,
      "outputs": []
    },
    {
      "cell_type": "markdown",
      "metadata": {
        "id": "AQxsEl3Y57IA",
        "colab_type": "text"
      },
      "source": [
        "As you might expect, the program prints each character of the string. We can format our print statement so that the letters will be printed in one line. The print statement automatically prints to the next line because there is a parameter, end that has the default value '\\n', which is the new line character.\n",
        "\n",
        "When outputting with the print statement, the output is represented as a str, similar to how an input is by default a str. After the output is represented as a str, the print statement will attach the new line character to the end, which causes it to print the object and the new line character.\n",
        "\n",
        "For example, if we were to print a list, [1, 2, 3], the output will be represented as a str, ‘[1, 2, 3]’. A new line character will be tagged onto the str representation so that it becomes ‘[1, 2, 3]\\n’.\n",
        "\n",
        "To change the end value and have the output be printed in one line separated by space, we can pass in a value for end.\n",
        "\n",
        "In this case, we will pass in end = ' ', a white space:\n",
        "\n",
        "\n",
        "```\n",
        "string = \"Alphabet\"\n",
        "for char in string:\n",
        "    print(char, end = \" \")\n",
        "```\n",
        "\n",
        "\n",
        "We can also have end be a comma, instead:\n",
        "\n",
        "```\n",
        "string = \"Alphabet\"\n",
        "for char in string:\n",
        "    print(char, end = \",\")\n",
        "```\n",
        "\n",
        "Let’s move on to printing values in a list. Again, since we are not iterating through a range for indexing purposes, let’s name our variable more appropriately. A common variable name used for iterating through a list is elem, short for element, or val, short for value.\n",
        "\n",
        "Of course, if your list only contains values of a specific data type, you can be more specific with the variable name.\n",
        "\n",
        "For numbers (int or float), you could name the variable num, short for number. For strings that form words from the English language, you could name the variable word. If you have a nested list, you could name the variable, lst.\n",
        "\n",
        "Since the variable for our list is beverages, we can be very specific and name our variable, refreshment.\n",
        "\n",
        "Let’s print each refreshment from beverages separated by a white space:"
      ]
    },
    {
      "cell_type": "code",
      "metadata": {
        "id": "jcZCFeFL6Ixj",
        "colab_type": "code",
        "colab": {}
      },
      "source": [
        "beverages = [\"water\", \"juice\", \"soda\", \"tea\", \"coffee\"]\n",
        "\n",
        "for refreshment in beverages:\n",
        "    print(refreshment, end = \" \")"
      ],
      "execution_count": null,
      "outputs": []
    },
    {
      "cell_type": "markdown",
      "metadata": {
        "id": "fBUiiYo46hTo",
        "colab_type": "text"
      },
      "source": [
        "##4.0.3 Practice \n",
        "\n",
        "What happens if we run the following program?"
      ]
    },
    {
      "cell_type": "code",
      "metadata": {
        "id": "sUYf4KM06kr6",
        "colab_type": "code",
        "colab": {}
      },
      "source": [
        "int_list = [] \n",
        "for i in range(10): int_lst.append(i)\n",
        "   print(int_list) "
      ],
      "execution_count": null,
      "outputs": []
    },
    {
      "cell_type": "markdown",
      "metadata": {
        "id": "aNuiZ-nE6XDu",
        "colab_type": "text"
      },
      "source": [
        "The program will add the int values 0 to 9 to the list.\n",
        "\n",
        "What happens if we now run this program?"
      ]
    },
    {
      "cell_type": "code",
      "metadata": {
        "id": "1FQt76fr6uFH",
        "colab_type": "code",
        "colab": {}
      },
      "source": [
        "int_list = [0, 1, 2, 3, 4, 5, 6, 7, 8, 9]\n",
        "\n",
        "for num in int_list:\n",
        "    num *= 2\n",
        "\n",
        "print(int_list)"
      ],
      "execution_count": null,
      "outputs": []
    },
    {
      "cell_type": "markdown",
      "metadata": {
        "id": "cQuwUbzD6RK5",
        "colab_type": "text"
      },
      "source": [
        "\n",
        "You may have expected int_list to have been mutated so that each value is doubled, [0, 2, 4, 6, 8, 10, 12, 14, 16, 18].\n",
        "\n",
        "However we see that there is no change to the list. Why is that? It is because we can only mutate the list by using its methods or by accessing the values by index.\n",
        "\n",
        "In the program above, when we iterated through the list with a for loop, the variable, num, changed and not the values in the list.\n",
        "\n",
        "Let’s trace the program:\n",
        "\n",
        "First iteration, num references the first value in the list, 0. It is then updated by a factor of 2. Then during the next iteration, num references the next value in the list, 1. It is then updated by a factor of 2.\n",
        "\n",
        "If we iterate through the entire list, we see that the variable, num, changes like so:\n",
        "\n",
        "```\n",
        "First iteration:              num →  0     →  0\n",
        "Second iteration:             num →  1     →  2\n",
        "Third iteration:              num →  2     →  4\n",
        "Fourth iteration:             num →  3     →  6\n",
        "Fifth iteration:              num →  4     →  8\n",
        "Sixth iteration:              num →  5     →  10\n",
        "Seventh iteration:            num →  6     →  12\n",
        "Eighth iteration:             num →  7     →  14\n",
        "Ninth iteration:              num →  8     →  16\n",
        "Tenth (last) iteration:       num →  9     →  18\n",
        "```\n",
        "\n",
        "To mutate the list, we will need to access the values by index. This can be done as seen in the earlier example with a range collection.\n",
        "\n",
        "Let’s actually mutate the values:\n",
        "\n",
        "\n",
        "```\n",
        "int_list = [0, 1, 2, 3, 4, 5, 6, 7, 8, 9]\n",
        "\n",
        "for i in range(len(int_list)):\n",
        "    Int_list[i] *= 2\n",
        "\n",
        "print(int_list)\n",
        "```\n",
        "\n",
        "\n",
        "##4.0.4 Infinite for loop\n",
        "\n",
        "By now, you should have a good understanding of the two loops (while and for), and their differences. The while loop requires a condition to run. In addition, without an exit condition, the while loop will run forever, becoming an infinite loop.\n",
        "\n",
        "But since a for loop does not run based on a condition but instead iterates over a collection, is it possible for a for loop to run infinitely?\n",
        "\n",
        "The answer is yes. The only way to have an infinite for loop is if you iterate over an infinitely large collection. However, infinity is just a concept and not an actual number. So how can we create an infinitely large collection?\n",
        "\n",
        "An infinite for loop can occur when the collection being iterated over grows inside the for loop.\n",
        "\n",
        "For instance, if we iterate through a list using a for loop and within the loop, constantly add values to the list, the list will continue to grow at the same rate as the variable used to reference each value in the list changes.\n",
        "\n",
        "```\n",
        "int_list = [1, 2, 3, 4, 5]\n",
        "for num in int_list:\n",
        "    int_list.append(num)\n",
        "```\n",
        "\n",
        "In the first iteration, num references 1, the first value. int_list then appends 1. In the next iteration, num references 2, the second value and int_list appends 2. This pattern continues and as a result, int_list will contain an infinity cycle of the values 1, 2, 3, 4, 5.\n",
        "\n",
        "Of course, since nothing is being displayed, you might not know what is happening while the programming is still running.\n",
        "\n",
        "Let’s add a print statement to see the infinite loop in action.\n",
        "\n",
        "```\n",
        "int_list = [1, 2, 3, 4, 5]\n",
        "for num in int_list:\n",
        "    int_list.append(num)\n",
        "```\n",
        "\n",
        "To recap on infinite loops, a while loop will run endlessly if there is no adequate exit condition and a for loop will run endlessly if the collection grows during each iteration.\n",
        "\n",
        "in operator (conditional)\n",
        "We have seen the in operator being used in a for loop. The in operator allows a variable to reference each value in an entire collection. Aside from iterating through a collection with a for loop, the in operator can also be used in a conditional statement.\n",
        "\n",
        "Unlike in a for loop, the in operator used for a conditional statement is used to determine if a value exists in a collection and returns a bool, True or False.\n",
        "\n",
        "When visiting the grocery store to purchase a beverage, we can quickly decide whether we want to purchase soda if its there or not.\n",
        "\n",
        "Let’s use a conditional statement to do so:\n"
      ]
    },
    {
      "cell_type": "code",
      "metadata": {
        "id": "zdNKbczb7VPK",
        "colab_type": "code",
        "colab": {}
      },
      "source": [
        "\n",
        "beverages = [\"water\", \"juice\", \"soda\", \"tea\", \"coffee\"]\n",
        "\n",
        "if \"soda\" in beverages:\n",
        "    print(\"I will purchase soda.\")\n",
        "else:\n",
        "    print(\"Soda is not available.\")\n"
      ],
      "execution_count": null,
      "outputs": []
    },
    {
      "cell_type": "markdown",
      "metadata": {
        "id": "UcVjx9gl7XR6",
        "colab_type": "text"
      },
      "source": [
        "We can also use the not operator within the conditional statement. After all, the condition \"soda\" in beverages returns either True or False.\n"
      ]
    },
    {
      "cell_type": "code",
      "metadata": {
        "id": "lyXOZ7nt7ZVU",
        "colab_type": "code",
        "colab": {}
      },
      "source": [
        "\n",
        "beverages = [\"water\", \"juice\", \"soda\", \"tea\", \"coffee\"]\n",
        "if \"soda\" not in beverages:\n",
        "    print(\"Soda is not available.\")\n",
        "else:\n",
        "    print(\"I will purchase soda.\")\n"
      ],
      "execution_count": null,
      "outputs": []
    },
    {
      "cell_type": "markdown",
      "metadata": {
        "id": "Te_fEEbN7bLw",
        "colab_type": "text"
      },
      "source": [
        "##4.0.5 Practice\n",
        "Write a program using a for loop that accomplishes the task similar to an \"if x in collection\" conditional statement.\n",
        "\n",
        "Prompt the user for an int input, x. The program will search through a list of integers, int_list, and change found to True if the int value associated with x is in the list.\n",
        "\n",
        "Here is the code for you to start with:"
      ]
    },
    {
      "cell_type": "code",
      "metadata": {
        "id": "z940vx5E7elS",
        "colab_type": "code",
        "colab": {}
      },
      "source": [
        "x = int(raw_input(\"Please enter a number: \"))\n",
        "int_list = [10, 12, 21, 19, 15, 14, 6]\n",
        "found = False\n",
        "\n",
        "# TODO: finish code here\n",
        "for num in int_list:\n",
        "    if x == num:\n",
        "        found = True\n",
        "        break\n",
        "\n",
        "print(found)"
      ],
      "execution_count": null,
      "outputs": []
    },
    {
      "cell_type": "markdown",
      "metadata": {
        "id": "_x81bCXs7jdJ",
        "colab_type": "text"
      },
      "source": [
        "We can also use a for loop to perform other interesting tasks. For instance, we can print out specific shapes using a for loop and print statement.\n",
        "\n",
        "Run the following program:\n"
      ]
    },
    {
      "cell_type": "code",
      "metadata": {
        "id": "L2FYvKZr7lif",
        "colab_type": "code",
        "colab": {}
      },
      "source": [
        "for i in range(5):\n",
        "    print(\"*\"*4)"
      ],
      "execution_count": null,
      "outputs": []
    },
    {
      "cell_type": "markdown",
      "metadata": {
        "id": "kqPjsNdq72Cy",
        "colab_type": "text"
      },
      "source": [
        "For each line, we printed a string of 4 asterisks. Doing so resulted in a 5 x 4 rectangle.\n",
        "\n",
        "We can also print squares. A square is a special type of rectangle where the length and width are of the same size. Let’s write a program that prints an n x n square formed by asterisks. The size, n will be determined by a user input.\n",
        "\n",
        "If the user inputs 3, the program will display:\n",
        "\n",
        "\n",
        "```\n",
        "\n",
        "***\n",
        "***\n",
        "***\n",
        "```\n",
        "\n",
        "\n",
        "If the user inputs 5, the program will display:\n",
        "\n",
        "\n",
        "\n",
        "```\n",
        "*****\n",
        "*****\n",
        "*****\n",
        "*****\n",
        "*****\n",
        "```\n",
        "\n",
        "\n",
        "Running the following program will produce such results:"
      ]
    },
    {
      "cell_type": "code",
      "metadata": {
        "id": "en2nWw0V76DO",
        "colab_type": "code",
        "colab": {
          "base_uri": "https://localhost:8080/",
          "height": 105
        },
        "outputId": "e7b7f7d5-672f-45ca-9aa9-bef875b0f7b9"
      },
      "source": [
        "n = int(input(\"Enter a number, n\"))\n",
        "for i in range(n):\n",
        "    print(n*\"*\")"
      ],
      "execution_count": null,
      "outputs": [
        {
          "output_type": "stream",
          "text": [
            "Enter a number, n3\n",
            "***\n",
            "***\n",
            "***\n"
          ],
          "name": "stdout"
        }
      ]
    },
    {
      "cell_type": "markdown",
      "metadata": {
        "id": "wAiU8pCo8T2W",
        "colab_type": "text"
      },
      "source": [
        "Select the code snippet that would modify the previous program such that it printed a triangle instead of a square\n",
        "Example output\n",
        "\n",
        "\n",
        "```\n",
        "*\n",
        "**\n",
        "***\n",
        "```\n"
      ]
    },
    {
      "cell_type": "markdown",
      "metadata": {
        "id": "WBEhvTTb--4c",
        "colab_type": "text"
      },
      "source": [
        "# 5.0 CHALLENGES"
      ]
    },
    {
      "cell_type": "markdown",
      "metadata": {
        "id": "trI_DjLT_Kvv",
        "colab_type": "text"
      },
      "source": [
        "## Exercise 1\n",
        "Create a program that asks the user to enter their name and their age. Print out a message addressed to them that tells them the year that they will turn 100 years old.\n",
        "\n",
        "Extras:\n",
        "\n",
        "Add on to the previous program by asking the user for another number and printing out that many copies of the previous message. \n",
        "\n",
        "Print out that many copies of the previous message on separate lines. (Hint: the string \"\\n is the same as pressing the ENTER button)"
      ]
    },
    {
      "cell_type": "code",
      "metadata": {
        "id": "6o_ve7gqeq4V",
        "colab_type": "code",
        "colab": {}
      },
      "source": [
        ""
      ],
      "execution_count": null,
      "outputs": []
    },
    {
      "cell_type": "markdown",
      "metadata": {
        "id": "Qq4FtAULeX8J",
        "colab_type": "text"
      },
      "source": [
        "## Exercise 2\n",
        "\n",
        "Ask the user for a number. Depending on whether the number is even or odd, print out an appropriate message to the user. Hint: how does an even / odd number react differently when divided by 2?\n",
        "\n",
        "Extras:\n",
        "\n",
        "If the number is a multiple of 4, print out a different message."
      ]
    },
    {
      "cell_type": "code",
      "metadata": {
        "id": "mayylkqweruF",
        "colab_type": "code",
        "colab": {}
      },
      "source": [
        ""
      ],
      "execution_count": null,
      "outputs": []
    },
    {
      "cell_type": "markdown",
      "metadata": {
        "id": "LCI6FQ2Be0Xi",
        "colab_type": "text"
      },
      "source": [
        "## Exercise 3\n",
        "\n",
        "Take a list, say for example this one:\n",
        "\n",
        "  a = [1, 1, 2, 3, 5, 8, 13, 21, 34, 55, 89]\n",
        "and write a program that prints out all the elements of the list that are less than 5.\n",
        "\n",
        "Extras:\n",
        "\n",
        "Instead of printing the elements one by one, make a new list that has all the elements less than 5 from this list in it and print out this new list."
      ]
    },
    {
      "cell_type": "code",
      "metadata": {
        "id": "MbqYPClRe6kF",
        "colab_type": "code",
        "colab": {}
      },
      "source": [
        ""
      ],
      "execution_count": null,
      "outputs": []
    },
    {
      "cell_type": "markdown",
      "metadata": {
        "id": "5HEzn1jDe7gm",
        "colab_type": "text"
      },
      "source": [
        "## Exercise 4\n",
        "Create a program that asks the user for a number and then prints out a list of all the divisors of that number. (If you don’t know what a divisor is, it is a number that divides evenly into another number. For example, 13 is a divisor of 26 because 26 / 13 has no remainder.)"
      ]
    },
    {
      "cell_type": "code",
      "metadata": {
        "id": "f_NbeTbvfKs2",
        "colab_type": "code",
        "colab": {}
      },
      "source": [
        ""
      ],
      "execution_count": null,
      "outputs": []
    },
    {
      "cell_type": "markdown",
      "metadata": {
        "id": "W2YLEysPfLOy",
        "colab_type": "text"
      },
      "source": [
        "## Exercise 5 \n",
        "\n",
        "Take two lists, say for example these two:\n",
        "\n",
        "  a = [1, 1, 2, 3, 5, 8, 13, 21, 34, 55, 89]\n",
        "  b = [1, 2, 3, 4, 5, 6, 7, 8, 9, 10, 11, 12, 13]\n",
        "  \n",
        "and write a program that returns a list that contains only the elements that are common between the lists (without duplicates). Make sure your program works on two lists of different sizes.\n",
        "\n",
        "Extras:\n",
        "\n",
        "Randomly generate two lists to test this"
      ]
    },
    {
      "cell_type": "code",
      "metadata": {
        "id": "sLpf9dhIfXJA",
        "colab_type": "code",
        "colab": {}
      },
      "source": [
        ""
      ],
      "execution_count": null,
      "outputs": []
    },
    {
      "cell_type": "markdown",
      "metadata": {
        "id": "1BNwGPihfX0T",
        "colab_type": "text"
      },
      "source": [
        "## Exercise 6 \n",
        "\n",
        "Ask the user for a string and print out whether this string is a palindrome or not. (A palindrome is a string that reads the same forwards and backwards.)"
      ]
    },
    {
      "cell_type": "code",
      "metadata": {
        "id": "KRawNMlAfhx2",
        "colab_type": "code",
        "colab": {}
      },
      "source": [
        ""
      ],
      "execution_count": null,
      "outputs": []
    },
    {
      "cell_type": "markdown",
      "metadata": {
        "id": "2ILje1IZfiUR",
        "colab_type": "text"
      },
      "source": [
        "## Exercise 7\n",
        "Generate a random number between 1 and 9 (including 1 and 9). Ask the user to guess the number, then tell them whether they guessed too low, too high, or exactly right. "
      ]
    },
    {
      "cell_type": "code",
      "metadata": {
        "id": "0Nx-w9N7f0Ob",
        "colab_type": "code",
        "colab": {}
      },
      "source": [
        ""
      ],
      "execution_count": null,
      "outputs": []
    },
    {
      "cell_type": "markdown",
      "metadata": {
        "id": "YEQ0AMAzf03Q",
        "colab_type": "text"
      },
      "source": [
        "## Exercise 8\n",
        "Ask the user for a number and determine whether the number is prime or not. (For those who have forgotten, a prime number is a number that has no divisors.). "
      ]
    },
    {
      "cell_type": "code",
      "metadata": {
        "id": "z1v5myV5gMCM",
        "colab_type": "code",
        "colab": {}
      },
      "source": [
        ""
      ],
      "execution_count": null,
      "outputs": []
    },
    {
      "cell_type": "markdown",
      "metadata": {
        "id": "-tqRt3z9gMoU",
        "colab_type": "text"
      },
      "source": [
        "## Exercise 9\n",
        "\n",
        "Write a program that asks the user how many Fibonnaci numbers to generate and then generates them. Take this opportunity to think about how you can use functions. Make sure to ask the user to enter the number of numbers in the sequence to generate.(Hint: The Fibonnaci seqence is a sequence of numbers where the next number in the sequence is the sum of the previous two numbers in the sequence. The sequence looks like this: 1, 1, 2, 3, 5, 8, 13, …)"
      ]
    },
    {
      "cell_type": "code",
      "metadata": {
        "id": "p4KGxfL8gSHM",
        "colab_type": "code",
        "colab": {}
      },
      "source": [
        ""
      ],
      "execution_count": null,
      "outputs": []
    },
    {
      "cell_type": "markdown",
      "metadata": {
        "id": "ZWNmBb25gSuk",
        "colab_type": "text"
      },
      "source": [
        "## Excercise 10\n",
        "\n",
        "Write a program that takes a list and returns a new list that contains all the elements of the first list minus all the duplicates."
      ]
    },
    {
      "cell_type": "code",
      "metadata": {
        "id": "nWli3iqzglpe",
        "colab_type": "code",
        "colab": {}
      },
      "source": [
        ""
      ],
      "execution_count": null,
      "outputs": []
    },
    {
      "cell_type": "markdown",
      "metadata": {
        "id": "VpYEXTr_gmOi",
        "colab_type": "text"
      },
      "source": [
        "## Excercise 11\n",
        "\n",
        "Write a password generator in Python. Typically passwords have a mix of lowercase letters, uppercase letters, numbers, and symbols. The passwords should be random, generating a new password every time the user asks for a new password."
      ]
    },
    {
      "cell_type": "code",
      "metadata": {
        "id": "vqiMc0ADg3an",
        "colab_type": "code",
        "colab": {}
      },
      "source": [
        ""
      ],
      "execution_count": null,
      "outputs": []
    },
    {
      "cell_type": "markdown",
      "metadata": {
        "id": "NRREdodpg4E7",
        "colab_type": "text"
      },
      "source": [
        "## Excercise 12\n",
        "\n",
        "Write a function that takes an ordered list of numbers (a list where the elements are in order from smallest to largest) and another number. The function decides whether or not the given number is inside the list and returns (then prints) an appropriate boolean. You can google for a concept called Binary Search."
      ]
    },
    {
      "cell_type": "code",
      "metadata": {
        "id": "cQBsKnr7hYXR",
        "colab_type": "code",
        "colab": {}
      },
      "source": [
        ""
      ],
      "execution_count": null,
      "outputs": []
    }
  ]
}